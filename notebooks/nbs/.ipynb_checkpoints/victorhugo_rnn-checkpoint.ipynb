{
 "cells": [
  {
   "cell_type": "code",
   "execution_count": 1,
   "metadata": {},
   "outputs": [
    {
     "name": "stderr",
     "output_type": "stream",
     "text": [
      "WARNING (theano.sandbox.cuda): The cuda backend is deprecated and will be removed in the next release (v0.10).  Please switch to the gpuarray backend. You can get more information about how to switch at this URL:\n",
      " https://github.com/Theano/Theano/wiki/Converting-to-the-new-gpu-back-end%28gpuarray%29\n",
      "\n",
      "WARNING (theano.sandbox.cuda): CUDA is installed, but device gpu is not available  (error: Unable to get the number of gpus available: CUDA driver version is insufficient for CUDA runtime version)\n",
      "Using TensorFlow backend.\n"
     ]
    }
   ],
   "source": [
    "from theano.sandbox import cuda\n",
    "\n",
    "%matplotlib inline\n",
    "import utils; reload(utils)\n",
    "from utils import *\n",
    "from __future__ import division, print_function"
   ]
  },
  {
   "cell_type": "code",
   "execution_count": 23,
   "metadata": {
    "scrolled": true
   },
   "outputs": [
    {
     "name": "stdout",
     "output_type": "stream",
     "text": [
      "corpus length: 1087507\n",
      "The Project Gutenberg EBook of Notre-Dame de Paris, by Victor Hugo\r\n",
      "\r\n",
      "This eBook is for the use of \n"
     ]
    }
   ],
   "source": [
    "notre_dame = \"http://www.gutenberg.org/cache/epub/19657/pg19657.txt\"\n",
    "lesmiserable1 = \"http://www.gutenberg.org/cache/epub/17489/pg17489.txt\"\n",
    "\n",
    "notredame_path = get_file('nd.txt', origin=str(notre_dame))\n",
    "import codecs\n",
    "\n",
    "text = codecs.open(notredame_path, \"r\", \"utf-8\").read()\n",
    "print('corpus length:', len(text))\n",
    "print(text[1:100])"
   ]
  },
  {
   "cell_type": "code",
   "execution_count": 40,
   "metadata": {},
   "outputs": [
    {
     "name": "stdout",
     "output_type": "stream",
     "text": [
      "total chars: 115\n",
      "ï\n",
      "ñ\n",
      "ô\n",
      "ù\n",
      "û\n",
      "﻿\n"
     ]
    }
   ],
   "source": [
    "chars = sorted(list(set(text)))\n",
    "vocab_size = len(chars)+1\n",
    "print('total chars:', vocab_size)\n",
    "for i in chars[-6:]: print(i)"
   ]
  },
  {
   "cell_type": "code",
   "execution_count": 41,
   "metadata": {
    "collapsed": true
   },
   "outputs": [],
   "source": [
    "char_indices = dict((c, i) for i, c in enumerate(chars))\n",
    "indices_char = dict((i, c) for i, c in enumerate(chars))"
   ]
  },
  {
   "cell_type": "code",
   "execution_count": 45,
   "metadata": {},
   "outputs": [
    {
     "data": {
      "text/plain": [
       "[49, 66, 63, 2, 45, 76, 73, 68, 63]"
      ]
     },
     "execution_count": 45,
     "metadata": {},
     "output_type": "execute_result"
    }
   ],
   "source": [
    "idx = [char_indices[c] for i,c in enumerate(text)]\n",
    "idx[1:10]"
   ]
  },
  {
   "cell_type": "code",
   "execution_count": 46,
   "metadata": {},
   "outputs": [
    {
     "data": {
      "text/plain": [
       "u'The Project Gutenberg EBook of Notre-Dame de Pari'"
      ]
     },
     "execution_count": 46,
     "metadata": {},
     "output_type": "execute_result"
    }
   ],
   "source": [
    "\"\".join(indices_char[i] for i in idx[1:50])"
   ]
  },
  {
   "cell_type": "markdown",
   "metadata": {},
   "source": [
    "# Simple RNN "
   ]
  },
  {
   "cell_type": "code",
   "execution_count": 47,
   "metadata": {
    "collapsed": true
   },
   "outputs": [],
   "source": [
    "embedding_size = 42\n",
    "hidden_layers = 256\n",
    "character_set = 8\n",
    "vocab_size = len(chars)+1"
   ]
  },
  {
   "cell_type": "code",
   "execution_count": 49,
   "metadata": {},
   "outputs": [
    {
     "name": "stdout",
     "output_type": "stream",
     "text": [
      "____________________________________________________________________________________________________\n",
      "Layer (type)                     Output Shape          Param #     Connected to                     \n",
      "====================================================================================================\n",
      "embedding_2 (Embedding)          (None, 8, 42)         4830        embedding_input_2[0][0]          \n",
      "____________________________________________________________________________________________________\n",
      "simplernn_2 (SimpleRNN)          (None, 256)           76544       embedding_2[0][0]                \n",
      "____________________________________________________________________________________________________\n",
      "dense_2 (Dense)                  (None, 115)           29555       simplernn_2[0][0]                \n",
      "====================================================================================================\n",
      "Total params: 110,929\n",
      "Trainable params: 110,929\n",
      "Non-trainable params: 0\n",
      "____________________________________________________________________________________________________\n"
     ]
    }
   ],
   "source": [
    "model=Sequential([\n",
    "        Embedding(vocab_size, embedding_size, input_length=character_set),\n",
    "        SimpleRNN(hidden_layers, activation='relu', inner_init='identity'),\n",
    "        Dense(vocab_size, activation='softmax')\n",
    "    ])\n",
    "model.summary()"
   ]
  },
  {
   "cell_type": "code",
   "execution_count": null,
   "metadata": {
    "collapsed": true
   },
   "outputs": [],
   "source": [
    "model.compile(loss='sparse_categorical_crossentropy', optimizer=Adam())\n"
   ]
  },
  {
   "cell_type": "markdown",
   "metadata": {},
   "source": [
    "## Preprocess input and output"
   ]
  },
  {
   "cell_type": "code",
   "execution_count": 146,
   "metadata": {},
   "outputs": [
    {
     "data": {
      "text/plain": [
       "int"
      ]
     },
     "execution_count": 146,
     "metadata": {},
     "output_type": "execute_result"
    }
   ],
   "source": [
    "type(idx[0])"
   ]
  },
  {
   "cell_type": "code",
   "execution_count": 152,
   "metadata": {},
   "outputs": [
    {
     "name": "stdout",
     "output_type": "stream",
     "text": [
      "nb sequences: 135938\n"
     ]
    },
    {
     "data": {
      "text/plain": [
       "[68, 63, 61, 78, 2, 36, 79, 78]"
      ]
     },
     "execution_count": 152,
     "metadata": {},
     "output_type": "execute_result"
    }
   ],
   "source": [
    "#  from https://github.com/fchollet/keras/blob/master/examples/lstm_text_generation.py\n",
    "char_in = []\n",
    "char_out = []\n",
    "for i in range(0, len(text) - 1 - character_set, character_set):\n",
    "    char_in.append([char_indices[c] for c in text[i: i + character_set]])\n",
    "    char_out.append(char_indices[text[i + character_set]])\n",
    "print('nb sequences:', len(sequences))\n",
    "\n",
    "sequences[1]\n",
    "# x= np.zeros(character_set,)\n",
    "# y =[]\n",
    "# for i, seq in enumerate(sequences):\n",
    "#     for j, char in enumerate(seq):\n",
    "#         x[]\n"
   ]
  },
  {
   "cell_type": "markdown",
   "metadata": {},
   "source": [
    "## Fit"
   ]
  },
  {
   "cell_type": "code",
   "execution_count": null,
   "metadata": {},
   "outputs": [
    {
     "name": "stdout",
     "output_type": "stream",
     "text": [
      "Epoch 1/8\n",
      " 30400/135938 [=====>........................] - ETA: 21s - loss: 1.4474"
     ]
    }
   ],
   "source": [
    "model.optimizer.lr=0.001\n",
    "model.fit(char_in, char_out, batch_size=64, nb_epoch=8)"
   ]
  },
  {
   "cell_type": "code",
   "execution_count": 196,
   "metadata": {
    "collapsed": true
   },
   "outputs": [],
   "source": [
    "def get_nexts_keras(inp):\n",
    "    idxs = [char_indices[c] for c in inp]\n",
    "    arr = np.array(idxs)[np.newaxis,:]\n",
    "    p = model.predict(arr)[0]\n",
    "    return indices_char[np.argmax(p)]\n",
    "#     print(p)b\n",
    "#     return [chars[np.argmax(o)] for o in p]"
   ]
  },
  {
   "cell_type": "code",
   "execution_count": 207,
   "metadata": {},
   "outputs": [
    {
     "name": "stdout",
     "output_type": "stream",
     "text": [
      "seed:  de la t, original:  bon pour moi, et vous me\r\n",
      "donnez de si \n",
      "constructed:  bon pour le prêtre de la parole de la p\n",
      "seed:  de la t, original:  le patient sur cette roue,\r\n",
      "à genoux et\n",
      "constructed:  le patiens de la parole de la parole de\n",
      "seed:  de la t, original:  attendre, pendu par le cardinal pour n'\n",
      "constructed:  attendre de la parole de la parole de l\n"
     ]
    }
   ],
   "source": [
    "import random\n",
    "i_space = [i for i, x in enumerate(text) if x == \" \"] \n",
    "for i in range(3):\n",
    "    len_test = 40\n",
    "    start_index = random.randint(0, len(i_space))\n",
    "    sentence = text[i_space[start_index]:i_space[start_index]+len_test]\n",
    "    constructed_sentence = sentence[0:character_set]\n",
    "    next_seed = constructed_sentence\n",
    "    print(\"seed: %s, original: %s\" % (seed, sentence))\n",
    "    for i in range(len_test-character_set):\n",
    "        next_letter = get_nexts_keras(next_seed)\n",
    "        next_seed = next_seed[1:]+next_letter\n",
    "        constructed_sentence = constructed_sentence + next_letter\n",
    "    print(\"constructed: %s\" % constructed_sentence)\n",
    "    \n",
    "\n"
   ]
  },
  {
   "cell_type": "code",
   "execution_count": null,
   "metadata": {
    "collapsed": true
   },
   "outputs": [],
   "source": []
  }
 ],
 "metadata": {
  "kernelspec": {
   "display_name": "Python 2",
   "language": "python",
   "name": "python2"
  },
  "language_info": {
   "codemirror_mode": {
    "name": "ipython",
    "version": 2
   },
   "file_extension": ".py",
   "mimetype": "text/x-python",
   "name": "python",
   "nbconvert_exporter": "python",
   "pygments_lexer": "ipython2",
   "version": "2.7.13"
  }
 },
 "nbformat": 4,
 "nbformat_minor": 2
}
