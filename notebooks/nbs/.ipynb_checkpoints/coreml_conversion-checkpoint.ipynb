{
 "cells": [
  {
   "cell_type": "markdown",
   "metadata": {},
   "source": [
    "# Training a model with little data, and using it on an iPhone app"
   ]
  },
  {
   "cell_type": "markdown",
   "metadata": {},
   "source": [
    "## Import libraries"
   ]
  },
  {
   "cell_type": "code",
   "execution_count": 4,
   "metadata": {
    "collapsed": true
   },
   "outputs": [],
   "source": [
    "import coremltools\n"
   ]
  },
  {
   "cell_type": "code",
   "execution_count": 5,
   "metadata": {
    "collapsed": false
   },
   "outputs": [],
   "source": [
    "#import vgg16; reload(vgg16)\n",
    "#from vgg16 import Vgg16"
   ]
  },
  {
   "cell_type": "markdown",
   "metadata": {},
   "source": [
    "## Import trained model"
   ]
  },
  {
   "cell_type": "code",
   "execution_count": 6,
   "metadata": {
    "collapsed": true
   },
   "outputs": [],
   "source": [
    "from numpy.random import random, permutation\n",
    "from scipy import misc, ndimage\n",
    "from scipy.ndimage.interpolation import zoom\n",
    "\n",
    "import keras\n",
    "from keras import backend as K\n",
    "from keras.utils.data_utils import get_file\n",
    "from keras.models import Sequential, Model\n",
    "from keras.layers.core import Flatten, Dense, Dropout, Lambda\n",
    "from keras.layers import Input\n",
    "from keras.layers.convolutional import Convolution2D, MaxPooling2D, ZeroPadding2D\n",
    "from keras.optimizers import SGD, RMSprop\n",
    "from keras.preprocessing import image"
   ]
  },
  {
   "cell_type": "code",
   "execution_count": 7,
   "metadata": {
    "collapsed": false
   },
   "outputs": [],
   "source": [
    "def ConvBlock(layers, model, filters, first_layer=False):\n",
    "    for i in range(layers): \n",
    "        if first_layer and i == 0:\n",
    "            model.add(ZeroPadding2D((1,1),input_shape=(3,224,224)))\n",
    "            print \"adding input shape\"\n",
    "        else:\n",
    "            model.add(ZeroPadding2D((1,1)))\n",
    "        model.add(Convolution2D(filters, 3, 3, activation='relu'))\n",
    "    model.add(MaxPooling2D((2,2), strides=(2,2)))"
   ]
  },
  {
   "cell_type": "code",
   "execution_count": 8,
   "metadata": {
    "collapsed": true
   },
   "outputs": [],
   "source": [
    "def FCBlock(model):\n",
    "    model.add(Dense(4096, activation='relu'))\n",
    "    model.add(Dropout(0.5))"
   ]
  },
  {
   "cell_type": "code",
   "execution_count": 9,
   "metadata": {
    "collapsed": true
   },
   "outputs": [],
   "source": [
    "def VGG_16():\n",
    "    model = Sequential()\n",
    "    #model.add(Lambda(vgg_preprocess, input_shape=(3,224,224)))\n",
    "\n",
    "    ConvBlock(2, model, 64, True)\n",
    "    ConvBlock(2, model, 128)\n",
    "    ConvBlock(3, model, 256)\n",
    "    ConvBlock(3, model, 512)\n",
    "    ConvBlock(3, model, 512)\n",
    "\n",
    "    model.add(Flatten())\n",
    "    FCBlock(model)\n",
    "    FCBlock(model)\n",
    "    model.add(Dense(1000, activation='softmax'))\n",
    "    return model"
   ]
  },
  {
   "cell_type": "code",
   "execution_count": 10,
   "metadata": {
    "collapsed": false
   },
   "outputs": [
    {
     "name": "stdout",
     "output_type": "stream",
     "text": [
      "adding input shape\n"
     ]
    }
   ],
   "source": [
    "model = VGG_16()\n",
    "fpath = get_file('vgg16.h5', 'http://files.fast.ai/models/vgg16.h5', cache_subdir='models')\n",
    "model.load_weights(fpath)"
   ]
  },
  {
   "cell_type": "markdown",
   "metadata": {},
   "source": [
    "// ft_model.model.load_weights('/srv/mus_vgg_ft_1.h5')"
   ]
  },
  {
   "cell_type": "markdown",
   "metadata": {},
   "source": [
    "## Convert to CoreML "
   ]
  },
  {
   "cell_type": "markdown",
   "metadata": {},
   "source": [
    "- 1 - pop the first lambda layer\n",
    "- 2 - convert to coreml\n",
    "- 3 - add back the first layer [use coreml bias](http://machinethink.net/blog/help-core-ml-gives-wrong-output/)"
   ]
  },
  {
   "cell_type": "markdown",
   "metadata": {},
   "source": [
    "Remove the lambda layer"
   ]
  },
  {
   "cell_type": "code",
   "execution_count": 11,
   "metadata": {
    "collapsed": false
   },
   "outputs": [],
   "source": [
    "# ft_model.model.layers.pop(0)"
   ]
  },
  {
   "cell_type": "code",
   "execution_count": 12,
   "metadata": {
    "collapsed": false
   },
   "outputs": [],
   "source": [
    "# coreml_model = coremltools.converters.keras.convert(vgg.model, input_names = 'image', class_labels = ['one','ten'])"
   ]
  },
  {
   "cell_type": "markdown",
   "metadata": {},
   "source": [
    "coreml_model = coremltools.converters.keras.convert(vgg.model, input_names = 'image', class_labels = ['one','ten'])"
   ]
  },
  {
   "cell_type": "code",
   "execution_count": null,
   "metadata": {
    "collapsed": false
   },
   "outputs": [
    {
     "name": "stdout",
     "output_type": "stream",
     "text": [
      "0 : zeropadding2d_input_1, <keras.engine.topology.InputLayer object at 0x7f746ef2fa10>\n",
      "1 : zeropadding2d_1, <keras.layers.convolutional.ZeroPadding2D object at 0x7f746ef2fbd0>\n",
      "2 : convolution2d_1, <keras.layers.convolutional.Convolution2D object at 0x7f746ef2f450>\n",
      "3 : convolution2d_1__activation__, <keras.layers.core.Activation object at 0x7f746f473490>\n",
      "4 : zeropadding2d_2, <keras.layers.convolutional.ZeroPadding2D object at 0x7f746ef2f990>\n",
      "5 : convolution2d_2, <keras.layers.convolutional.Convolution2D object at 0x7f746ef57650>\n",
      "6 : convolution2d_2__activation__, <keras.layers.core.Activation object at 0x7f746f473450>\n",
      "7 : maxpooling2d_1, <keras.layers.pooling.MaxPooling2D object at 0x7f746f4737d0>\n",
      "8 : zeropadding2d_3, <keras.layers.convolutional.ZeroPadding2D object at 0x7f746eefe910>\n",
      "9 : convolution2d_3, <keras.layers.convolutional.Convolution2D object at 0x7f746eea76d0>\n",
      "10 : convolution2d_3__activation__, <keras.layers.core.Activation object at 0x7f746f473b90>\n",
      "11 : zeropadding2d_4, <keras.layers.convolutional.ZeroPadding2D object at 0x7f746eeb8b90>\n",
      "12 : convolution2d_4, <keras.layers.convolutional.Convolution2D object at 0x7f746eeb8d50>\n",
      "13 : convolution2d_4__activation__, <keras.layers.core.Activation object at 0x7f746e9a6290>\n",
      "14 : maxpooling2d_2, <keras.layers.pooling.MaxPooling2D object at 0x7f746eefe750>\n",
      "15 : zeropadding2d_5, <keras.layers.convolutional.ZeroPadding2D object at 0x7f746ee73550>\n",
      "16 : convolution2d_5, <keras.layers.convolutional.Convolution2D object at 0x7f746ee94510>\n",
      "17 : convolution2d_5__activation__, <keras.layers.core.Activation object at 0x7f746e9a6210>\n",
      "18 : zeropadding2d_6, <keras.layers.convolutional.ZeroPadding2D object at 0x7f746ee268d0>\n",
      "19 : convolution2d_6, <keras.layers.convolutional.Convolution2D object at 0x7f746ee26bd0>\n",
      "20 : convolution2d_6__activation__, <keras.layers.core.Activation object at 0x7f746e9a6310>\n",
      "21 : zeropadding2d_7, <keras.layers.convolutional.ZeroPadding2D object at 0x7f746ebc4e10>\n",
      "22 : convolution2d_7, <keras.layers.convolutional.Convolution2D object at 0x7f746ebc4650>\n",
      "23 : convolution2d_7__activation__, <keras.layers.core.Activation object at 0x7f746e9a6350>\n",
      "24 : maxpooling2d_3, <keras.layers.pooling.MaxPooling2D object at 0x7f746ee73890>\n",
      "25 : zeropadding2d_8, <keras.layers.convolutional.ZeroPadding2D object at 0x7f746ebfc910>\n",
      "26 : convolution2d_8, <keras.layers.convolutional.Convolution2D object at 0x7f746eb89ed0>\n",
      "27 : convolution2d_8__activation__, <keras.layers.core.Activation object at 0x7f746e9a63d0>\n",
      "28 : zeropadding2d_9, <keras.layers.convolutional.ZeroPadding2D object at 0x7f746ebb4c90>\n",
      "29 : convolution2d_9, <keras.layers.convolutional.Convolution2D object at 0x7f746ebb44d0>\n",
      "30 : convolution2d_9__activation__, <keras.layers.core.Activation object at 0x7f746e9a6450>\n",
      "31 : zeropadding2d_10, <keras.layers.convolutional.ZeroPadding2D object at 0x7f746eb5ae90>\n",
      "32 : convolution2d_10, <keras.layers.convolutional.Convolution2D object at 0x7f746eb6e790>\n",
      "33 : convolution2d_10__activation__, <keras.layers.core.Activation object at 0x7f746e9a64d0>\n",
      "34 : maxpooling2d_4, <keras.layers.pooling.MaxPooling2D object at 0x7f746ebfc950>\n",
      "35 : zeropadding2d_11, <keras.layers.convolutional.ZeroPadding2D object at 0x7f746eb10bd0>\n",
      "36 : convolution2d_11, <keras.layers.convolutional.Convolution2D object at 0x7f746eb36850>\n",
      "37 : convolution2d_11__activation__, <keras.layers.core.Activation object at 0x7f746e9a6510>\n",
      "38 : zeropadding2d_12, <keras.layers.convolutional.ZeroPadding2D object at 0x7f746eac9d50>\n",
      "39 : convolution2d_12, <keras.layers.convolutional.Convolution2D object at 0x7f746eadb650>\n",
      "40 : convolution2d_12__activation__, <keras.layers.core.Activation object at 0x7f746e9a6590>\n",
      "41 : zeropadding2d_13, <keras.layers.convolutional.ZeroPadding2D object at 0x7f746eaff6d0>\n",
      "42 : convolution2d_13, <keras.layers.convolutional.Convolution2D object at 0x7f746eaff850>\n",
      "43 : convolution2d_13__activation__, <keras.layers.core.Activation object at 0x7f746e9a6650>\n",
      "44 : maxpooling2d_5, <keras.layers.pooling.MaxPooling2D object at 0x7f746eb10a50>\n",
      "45 : flatten_1, <keras.layers.core.Flatten object at 0x7f746eab8190>\n",
      "46 : dense_1, <keras.layers.core.Dense object at 0x7f746ea5d3d0>\n"
     ]
    }
   ],
   "source": [
    "coreml_model = coremltools.converters.keras.convert(model, input_names = 'image', class_labels = ['one','ten'], is_bgr=True)"
   ]
  },
  {
   "cell_type": "code",
   "execution_count": null,
   "metadata": {
    "collapsed": true
   },
   "outputs": [],
   "source": []
  }
 ],
 "metadata": {
  "kernelspec": {
   "display_name": "Python 2",
   "language": "python",
   "name": "python2"
  },
  "language_info": {
   "codemirror_mode": {
    "name": "ipython",
    "version": 2
   },
   "file_extension": ".py",
   "mimetype": "text/x-python",
   "name": "python",
   "nbconvert_exporter": "python",
   "pygments_lexer": "ipython2",
   "version": "2.7.13rc1"
  }
 },
 "nbformat": 4,
 "nbformat_minor": 2
}
