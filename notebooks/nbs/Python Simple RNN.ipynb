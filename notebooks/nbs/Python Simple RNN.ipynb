{
 "cells": [
  {
   "cell_type": "code",
   "execution_count": 20,
   "metadata": {
    "code_folding": []
   },
   "outputs": [],
   "source": [
    "#https://gist.github.com/karpathy/d4dee566867f8291f086\n",
    "import numpy as np\n",
    "import pdb # python debugger\n",
    "import theano\n",
    "from theano.tensor import nnet\n"
   ]
  },
  {
   "cell_type": "markdown",
   "metadata": {},
   "source": [
    "- setup basic functions, relu, sigmoid, dist(sqrt) and their derivatives"
   ]
  },
  {
   "cell_type": "code",
   "execution_count": 12,
   "metadata": {},
   "outputs": [],
   "source": [
    "# 1/1+e(-x). Delta s - s2\n",
    "def sigmoid(x): return (1/1+np.exp(x))\n",
    "def sigmoid_d(x):\n",
    "    s = sigmoid(x)\n",
    "    return s - pow(s,2)\n",
    "\n",
    "def relu(x): return np.maximum(x,0)\n",
    "def relu_d(x): return (x>0)*1\n",
    "relu(np.array([3.,-3.])), relu_d(np.array([3.,-3.]))\n",
    "\n",
    "def dist(a,b): return pow(a-b,2)\n",
    "def dist_d(a,b): return 2*(a-b)"
   ]
  },
  {
   "cell_type": "code",
   "execution_count": 27,
   "metadata": {},
   "outputs": [],
   "source": [
    "eps= 1e-7\n",
    "def x_entropy(pred,actual):\n",
    "    return -np.sum(actual * np.log(np.clip(pred, eps, 1-eps))) # doesn't behave as theano that doesnt' have clipping\n",
    "# log prob represents the number of bits needed to encode it. or the amount of time. Log the amount of it, log prob"
   ]
  },
  {
   "cell_type": "code",
   "execution_count": 29,
   "metadata": {},
   "outputs": [
    {
     "name": "stdout",
     "output_type": "stream",
     "text": [
      "theano 0.510826, self 0.510826\n"
     ]
    }
   ],
   "source": [
    "test_preds = np.array([0.2,0.6,2.1])\n",
    "test_actuals = np.array([0.,1.,0.])\n",
    "th_xentr=nnet.categorical_crossentropy(test_preds, test_actuals).eval()\n",
    "print(\"theano %f, self %f\" % (th_xentr,x_entropy(test_preds,test_actuals)))"
   ]
  },
  {
   "cell_type": "code",
   "execution_count": 30,
   "metadata": {
    "collapsed": true
   },
   "outputs": [],
   "source": [
    "def x_entropy_d(pred,actual): # d xentr / dpred\n",
    "    return - actual / pred"
   ]
  },
  {
   "cell_type": "code",
   "execution_count": 32,
   "metadata": {},
   "outputs": [
    {
     "data": {
      "text/plain": [
       "array([ 0.        ,  1.66666667,  0.        ])"
      ]
     },
     "execution_count": 32,
     "metadata": {},
     "output_type": "execute_result"
    }
   ],
   "source": [
    "x_entropy_d(test_preds,test_actuals)"
   ]
  },
  {
   "cell_type": "code",
   "execution_count": null,
   "metadata": {
    "collapsed": true
   },
   "outputs": [],
   "source": []
  }
 ],
 "metadata": {
  "kernelspec": {
   "display_name": "Python 2",
   "language": "python",
   "name": "python2"
  },
  "language_info": {
   "codemirror_mode": {
    "name": "ipython",
    "version": 2
   },
   "file_extension": ".py",
   "mimetype": "text/x-python",
   "name": "python",
   "nbconvert_exporter": "python",
   "pygments_lexer": "ipython2",
   "version": "2.7.14"
  }
 },
 "nbformat": 4,
 "nbformat_minor": 2
}
