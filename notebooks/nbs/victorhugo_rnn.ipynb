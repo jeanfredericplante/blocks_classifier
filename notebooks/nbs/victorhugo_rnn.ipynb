{
 "cells": [
  {
   "cell_type": "code",
   "execution_count": 1,
   "metadata": {
    "scrolled": true
   },
   "outputs": [
    {
     "name": "stderr",
     "output_type": "stream",
     "text": [
      "Using TensorFlow backend.\n"
     ]
    }
   ],
   "source": [
    "from theano.sandbox import cuda\n",
    "\n",
    "%matplotlib inline\n",
    "import utils; reload(utils)\n",
    "from utils import *\n",
    "from __future__ import division, print_function"
   ]
  },
  {
   "cell_type": "markdown",
   "metadata": {},
   "source": [
    "# Import corpus"
   ]
  },
  {
   "cell_type": "code",
   "execution_count": 2,
   "metadata": {
    "scrolled": true
   },
   "outputs": [
    {
     "name": "stdout",
     "output_type": "stream",
     "text": [
      "corpus length: 1087507\n",
      "The Project Gutenberg EBook of Notre-Dame de Paris, by Victor Hugo\r\n",
      "\r\n",
      "This eBook is for the use of \n"
     ]
    }
   ],
   "source": [
    "notre_dame = \"http://www.gutenberg.org/cache/epub/19657/pg19657.txt\"\n",
    "lesmiserable1 = \"http://www.gutenberg.org/cache/epub/17489/pg17489.txt\"\n",
    "\n",
    "notredame_path = get_file('nd.txt', origin=str(notre_dame))\n",
    "import codecs\n",
    "\n",
    "text = codecs.open(notredame_path, \"r\", \"utf-8\").read()\n",
    "print('corpus length:', len(text))\n",
    "print(text[1:100])"
   ]
  },
  {
   "cell_type": "code",
   "execution_count": 3,
   "metadata": {},
   "outputs": [
    {
     "name": "stdout",
     "output_type": "stream",
     "text": [
      "total chars: 115\n",
      "ï\n",
      "ñ\n",
      "ô\n",
      "ù\n",
      "û\n",
      "﻿\n"
     ]
    }
   ],
   "source": [
    "chars = sorted(list(set(text)))\n",
    "vocab_size = len(chars)+1\n",
    "print('total chars:', vocab_size)\n",
    "for i in chars[-6:]: print(i)"
   ]
  },
  {
   "cell_type": "code",
   "execution_count": 4,
   "metadata": {
    "collapsed": true
   },
   "outputs": [],
   "source": [
    "char_indices = dict((c, i) for i, c in enumerate(chars))\n",
    "indices_char = dict((i, c) for i, c in enumerate(chars))"
   ]
  },
  {
   "cell_type": "code",
   "execution_count": 5,
   "metadata": {},
   "outputs": [
    {
     "data": {
      "text/plain": [
       "[49, 66, 63, 2, 45, 76, 73, 68, 63]"
      ]
     },
     "execution_count": 5,
     "metadata": {},
     "output_type": "execute_result"
    }
   ],
   "source": [
    "idx = [char_indices[c] for i,c in enumerate(text)]\n",
    "idx[1:10]"
   ]
  },
  {
   "cell_type": "code",
   "execution_count": 7,
   "metadata": {},
   "outputs": [
    {
     "data": {
      "text/plain": [
       "u'The Project Gutenberg EBook of Notre-Dame de Pari'"
      ]
     },
     "execution_count": 7,
     "metadata": {},
     "output_type": "execute_result"
    }
   ],
   "source": [
    "\"\".join(indices_char[i] for i in idx[1:50])"
   ]
  },
  {
   "cell_type": "markdown",
   "metadata": {
    "heading_collapsed": true
   },
   "source": [
    "# Simple RNN "
   ]
  },
  {
   "cell_type": "code",
   "execution_count": 7,
   "metadata": {
    "collapsed": true,
    "hidden": true
   },
   "outputs": [],
   "source": [
    "embedding_size = 42\n",
    "hidden_layers = 256\n",
    "character_set = 8\n",
    "vocab_size = len(chars)+1"
   ]
  },
  {
   "cell_type": "code",
   "execution_count": 8,
   "metadata": {
    "hidden": true
   },
   "outputs": [
    {
     "name": "stdout",
     "output_type": "stream",
     "text": [
      "____________________________________________________________________________________________________\n",
      "Layer (type)                     Output Shape          Param #     Connected to                     \n",
      "====================================================================================================\n",
      "embedding_1 (Embedding)          (None, 8, 42)         4830        embedding_input_1[0][0]          \n",
      "____________________________________________________________________________________________________\n",
      "simplernn_1 (SimpleRNN)          (None, 256)           76544       embedding_1[0][0]                \n",
      "____________________________________________________________________________________________________\n",
      "dense_1 (Dense)                  (None, 115)           29555       simplernn_1[0][0]                \n",
      "====================================================================================================\n",
      "Total params: 110,929\n",
      "Trainable params: 110,929\n",
      "Non-trainable params: 0\n",
      "____________________________________________________________________________________________________\n"
     ]
    }
   ],
   "source": [
    "model=Sequential([\n",
    "        Embedding(vocab_size, embedding_size, input_length=character_set),\n",
    "        SimpleRNN(hidden_layers, activation='relu', inner_init='identity'),\n",
    "        Dense(vocab_size, activation='softmax')\n",
    "    ])\n",
    "model.summary()"
   ]
  },
  {
   "cell_type": "code",
   "execution_count": 9,
   "metadata": {
    "collapsed": true,
    "hidden": true
   },
   "outputs": [],
   "source": [
    "model.compile(loss='sparse_categorical_crossentropy', optimizer=Adam())\n"
   ]
  },
  {
   "cell_type": "markdown",
   "metadata": {
    "heading_collapsed": true,
    "hidden": true
   },
   "source": [
    "## Preprocess input and output"
   ]
  },
  {
   "cell_type": "code",
   "execution_count": 10,
   "metadata": {
    "hidden": true
   },
   "outputs": [
    {
     "data": {
      "text/plain": [
       "int"
      ]
     },
     "execution_count": 10,
     "metadata": {},
     "output_type": "execute_result"
    }
   ],
   "source": [
    "type(idx[0])"
   ]
  },
  {
   "cell_type": "code",
   "execution_count": 11,
   "metadata": {
    "hidden": true
   },
   "outputs": [
    {
     "ename": "NameError",
     "evalue": "name 'sequences' is not defined",
     "output_type": "error",
     "traceback": [
      "\u001b[0;31m---------------------------------------------------------------------------\u001b[0m",
      "\u001b[0;31mNameError\u001b[0m                                 Traceback (most recent call last)",
      "\u001b[0;32m<ipython-input-11-0b404d7e251e>\u001b[0m in \u001b[0;36m<module>\u001b[0;34m()\u001b[0m\n\u001b[1;32m      5\u001b[0m     \u001b[0mchar_in\u001b[0m\u001b[0;34m.\u001b[0m\u001b[0mappend\u001b[0m\u001b[0;34m(\u001b[0m\u001b[0;34m[\u001b[0m\u001b[0mchar_indices\u001b[0m\u001b[0;34m[\u001b[0m\u001b[0mc\u001b[0m\u001b[0;34m]\u001b[0m \u001b[0;32mfor\u001b[0m \u001b[0mc\u001b[0m \u001b[0;32min\u001b[0m \u001b[0mtext\u001b[0m\u001b[0;34m[\u001b[0m\u001b[0mi\u001b[0m\u001b[0;34m:\u001b[0m \u001b[0mi\u001b[0m \u001b[0;34m+\u001b[0m \u001b[0mcharacter_set\u001b[0m\u001b[0;34m]\u001b[0m\u001b[0;34m]\u001b[0m\u001b[0;34m)\u001b[0m\u001b[0;34m\u001b[0m\u001b[0m\n\u001b[1;32m      6\u001b[0m     \u001b[0mchar_out\u001b[0m\u001b[0;34m.\u001b[0m\u001b[0mappend\u001b[0m\u001b[0;34m(\u001b[0m\u001b[0mchar_indices\u001b[0m\u001b[0;34m[\u001b[0m\u001b[0mtext\u001b[0m\u001b[0;34m[\u001b[0m\u001b[0mi\u001b[0m \u001b[0;34m+\u001b[0m \u001b[0mcharacter_set\u001b[0m\u001b[0;34m]\u001b[0m\u001b[0;34m]\u001b[0m\u001b[0;34m)\u001b[0m\u001b[0;34m\u001b[0m\u001b[0m\n\u001b[0;32m----> 7\u001b[0;31m \u001b[0;32mprint\u001b[0m\u001b[0;34m(\u001b[0m\u001b[0;34m'nb sequences:'\u001b[0m\u001b[0;34m,\u001b[0m \u001b[0mlen\u001b[0m\u001b[0;34m(\u001b[0m\u001b[0msequences\u001b[0m\u001b[0;34m)\u001b[0m\u001b[0;34m)\u001b[0m\u001b[0;34m\u001b[0m\u001b[0m\n\u001b[0m\u001b[1;32m      8\u001b[0m \u001b[0;34m\u001b[0m\u001b[0m\n\u001b[1;32m      9\u001b[0m \u001b[0msequences\u001b[0m\u001b[0;34m[\u001b[0m\u001b[0;36m1\u001b[0m\u001b[0;34m]\u001b[0m\u001b[0;34m\u001b[0m\u001b[0m\n",
      "\u001b[0;31mNameError\u001b[0m: name 'sequences' is not defined"
     ]
    }
   ],
   "source": [
    "#  from https://github.com/fchollet/keras/blob/master/examples/lstm_text_generation.py\n",
    "char_in = []\n",
    "char_out = []\n",
    "for i in range(0, len(text) - 1 - character_set, character_set):\n",
    "    char_in.append([char_indices[c] for c in text[i: i + character_set]])\n",
    "    char_out.append(char_indices[text[i + character_set]])\n",
    "print('nb sequences:', len(char_in))\n",
    "\n",
    "sequences[1]\n",
    "# x= np.zeros(character_set,)\n",
    "# y =[]\n",
    "# for i, seq in enumerate(sequences):\n",
    "#     for j, char in enumerate(seq):\n",
    "#         x[]\n"
   ]
  },
  {
   "cell_type": "markdown",
   "metadata": {
    "hidden": true
   },
   "source": [
    "## Fit"
   ]
  },
  {
   "cell_type": "code",
   "execution_count": 17,
   "metadata": {
    "hidden": true
   },
   "outputs": [
    {
     "name": "stdout",
     "output_type": "stream",
     "text": [
      "Epoch 1/3\n",
      "135938/135938 [==============================] - 24s - loss: 1.3895    \n",
      "Epoch 2/3\n",
      "135938/135938 [==============================] - 24s - loss: 1.3795    \n",
      "Epoch 3/3\n",
      "135938/135938 [==============================] - 25s - loss: 1.3686    \n"
     ]
    },
    {
     "data": {
      "text/plain": [
       "<keras.callbacks.History at 0x11a3a5390>"
      ]
     },
     "execution_count": 17,
     "metadata": {},
     "output_type": "execute_result"
    }
   ],
   "source": [
    "model.optimizer.lr=0.0001\n",
    "model.fit(char_in, char_out, batch_size=64, nb_epoch=3)"
   ]
  },
  {
   "cell_type": "code",
   "execution_count": 58,
   "metadata": {
    "collapsed": true,
    "hidden": true
   },
   "outputs": [],
   "source": [
    "def get_nexts_keras(inp):\n",
    "    idxs = [char_indices[c] for c in inp]\n",
    "    arr = np.array(idxs)[np.newaxis,:]\n",
    "    p = model.predict(arr)[0]\n",
    "    return indices_char[np.argmax(p)]\n",
    "#     print(p)b\n",
    "#     return [chars[np.argmax(o)] for o in p]"
   ]
  },
  {
   "cell_type": "code",
   "execution_count": 20,
   "metadata": {
    "hidden": true
   },
   "outputs": [
    {
     "name": "stdout",
     "output_type": "stream",
     "text": [
      "seed:  de temp, original:  de temps en temps quand\r\n",
      "Gringoire les \n"
     ]
    },
    {
     "ename": "KeyError",
     "evalue": "730",
     "output_type": "error",
     "traceback": [
      "\u001b[0;31m---------------------------------------------------------------------------\u001b[0m",
      "\u001b[0;31mKeyError\u001b[0m                                  Traceback (most recent call last)",
      "\u001b[0;32m<ipython-input-20-dcd1a266d792>\u001b[0m in \u001b[0;36m<module>\u001b[0;34m()\u001b[0m\n\u001b[1;32m      9\u001b[0m     \u001b[0;32mprint\u001b[0m\u001b[0;34m(\u001b[0m\u001b[0;34m\"seed: %s, original: %s\"\u001b[0m \u001b[0;34m%\u001b[0m \u001b[0;34m(\u001b[0m\u001b[0mconstructed_sentence\u001b[0m\u001b[0;34m,\u001b[0m \u001b[0msentence\u001b[0m\u001b[0;34m)\u001b[0m\u001b[0;34m)\u001b[0m\u001b[0;34m\u001b[0m\u001b[0m\n\u001b[1;32m     10\u001b[0m     \u001b[0;32mfor\u001b[0m \u001b[0mi\u001b[0m \u001b[0;32min\u001b[0m \u001b[0mrange\u001b[0m\u001b[0;34m(\u001b[0m\u001b[0mlen_test\u001b[0m\u001b[0;34m-\u001b[0m\u001b[0mcharacter_set\u001b[0m\u001b[0;34m)\u001b[0m\u001b[0;34m:\u001b[0m\u001b[0;34m\u001b[0m\u001b[0m\n\u001b[0;32m---> 11\u001b[0;31m         \u001b[0mnext_letter\u001b[0m \u001b[0;34m=\u001b[0m \u001b[0mget_nexts_keras\u001b[0m\u001b[0;34m(\u001b[0m\u001b[0mnext_seed\u001b[0m\u001b[0;34m)\u001b[0m\u001b[0;34m\u001b[0m\u001b[0m\n\u001b[0m\u001b[1;32m     12\u001b[0m         \u001b[0mnext_seed\u001b[0m \u001b[0;34m=\u001b[0m \u001b[0mnext_seed\u001b[0m\u001b[0;34m[\u001b[0m\u001b[0;36m1\u001b[0m\u001b[0;34m:\u001b[0m\u001b[0;34m]\u001b[0m\u001b[0;34m+\u001b[0m\u001b[0mnext_letter\u001b[0m\u001b[0;34m\u001b[0m\u001b[0m\n\u001b[1;32m     13\u001b[0m         \u001b[0mconstructed_sentence\u001b[0m \u001b[0;34m=\u001b[0m \u001b[0mconstructed_sentence\u001b[0m \u001b[0;34m+\u001b[0m \u001b[0mnext_letter\u001b[0m\u001b[0;34m\u001b[0m\u001b[0m\n",
      "\u001b[0;32m<ipython-input-13-dc08d5b5db45>\u001b[0m in \u001b[0;36mget_nexts_keras\u001b[0;34m(inp)\u001b[0m\n\u001b[1;32m      3\u001b[0m     \u001b[0marr\u001b[0m \u001b[0;34m=\u001b[0m \u001b[0mnp\u001b[0m\u001b[0;34m.\u001b[0m\u001b[0marray\u001b[0m\u001b[0;34m(\u001b[0m\u001b[0midxs\u001b[0m\u001b[0;34m)\u001b[0m\u001b[0;34m[\u001b[0m\u001b[0mnp\u001b[0m\u001b[0;34m.\u001b[0m\u001b[0mnewaxis\u001b[0m\u001b[0;34m,\u001b[0m\u001b[0;34m:\u001b[0m\u001b[0;34m]\u001b[0m\u001b[0;34m\u001b[0m\u001b[0m\n\u001b[1;32m      4\u001b[0m     \u001b[0mp\u001b[0m \u001b[0;34m=\u001b[0m \u001b[0mmodel\u001b[0m\u001b[0;34m.\u001b[0m\u001b[0mpredict\u001b[0m\u001b[0;34m(\u001b[0m\u001b[0marr\u001b[0m\u001b[0;34m)\u001b[0m\u001b[0;34m[\u001b[0m\u001b[0;36m0\u001b[0m\u001b[0;34m]\u001b[0m\u001b[0;34m\u001b[0m\u001b[0m\n\u001b[0;32m----> 5\u001b[0;31m     \u001b[0;32mreturn\u001b[0m \u001b[0mindices_char\u001b[0m\u001b[0;34m[\u001b[0m\u001b[0mnp\u001b[0m\u001b[0;34m.\u001b[0m\u001b[0margmax\u001b[0m\u001b[0;34m(\u001b[0m\u001b[0mp\u001b[0m\u001b[0;34m)\u001b[0m\u001b[0;34m]\u001b[0m\u001b[0;34m\u001b[0m\u001b[0m\n\u001b[0m\u001b[1;32m      6\u001b[0m \u001b[0;31m#     print(p)b\u001b[0m\u001b[0;34m\u001b[0m\u001b[0;34m\u001b[0m\u001b[0m\n\u001b[1;32m      7\u001b[0m \u001b[0;31m#     return [chars[np.argmax(o)] for o in p]\u001b[0m\u001b[0;34m\u001b[0m\u001b[0;34m\u001b[0m\u001b[0m\n",
      "\u001b[0;31mKeyError\u001b[0m: 730"
     ]
    }
   ],
   "source": [
    "import random\n",
    "i_space = [i for i, x in enumerate(text) if x == \" \"] \n",
    "for i in range(3):\n",
    "    len_test = 40\n",
    "    start_index = random.randint(0, len(i_space))\n",
    "    sentence = text[i_space[start_index]:i_space[start_index]+len_test]\n",
    "    constructed_sentence = sentence[0:character_set]\n",
    "    next_seed = constructed_sentence\n",
    "    print(\"seed: %s, original: %s\" % (constructed_sentence, sentence))\n",
    "    for i in range(len_test-character_set):\n",
    "        next_letter = get_nexts_keras(next_seed)\n",
    "        next_seed = next_seed[1:]+next_letter\n",
    "        constructed_sentence = constructed_sentence + next_letter\n",
    "    print(\"constructed: %s\" % constructed_sentence)\n",
    "    \n",
    "\n"
   ]
  },
  {
   "cell_type": "markdown",
   "metadata": {
    "hidden": true
   },
   "source": [
    "### Sequential model"
   ]
  },
  {
   "cell_type": "code",
   "execution_count": 8,
   "metadata": {
    "hidden": true
   },
   "outputs": [
    {
     "name": "stdout",
     "output_type": "stream",
     "text": [
      "____________________________________________________________________________________________________\n",
      "Layer (type)                     Output Shape          Param #     Connected to                     \n",
      "====================================================================================================\n",
      "embedding_1 (Embedding)          (None, 25, 42)        4830        embedding_input_1[0][0]          \n",
      "____________________________________________________________________________________________________\n",
      "simplernn_1 (SimpleRNN)          (None, 25, 256)       76544       embedding_1[0][0]                \n",
      "____________________________________________________________________________________________________\n",
      "timedistributed_1 (TimeDistribut (None, 25, 115)       29555       simplernn_1[0][0]                \n",
      "====================================================================================================\n",
      "Total params: 110,929\n",
      "Trainable params: 110,929\n",
      "Non-trainable params: 0\n",
      "____________________________________________________________________________________________________\n"
     ]
    }
   ],
   "source": [
    "embedding_size = 42\n",
    "hidden_layers = 256\n",
    "character_set = 25\n",
    "vocab_size = len(chars)+1\n",
    "\n",
    "model=Sequential([\n",
    "        Embedding(vocab_size, embedding_size, input_length=character_set),\n",
    "        SimpleRNN(hidden_layers, return_sequences=True, activation='relu', inner_init='identity'),\n",
    "        TimeDistributed(Dense(vocab_size, activation='softmax'))\n",
    "    ])\n",
    "model.compile(loss='sparse_categorical_crossentropy', optimizer=Adam())\n",
    "model.summary()\n"
   ]
  },
  {
   "cell_type": "code",
   "execution_count": 9,
   "metadata": {
    "hidden": true
   },
   "outputs": [
    {
     "name": "stdout",
     "output_type": "stream",
     "text": [
      "nb sequences: 43500\n",
      "[[73, 73, 69, 2, 73, 64, 2, 43, 73, 78, 76, 63, 13, 33, 59, 71, 63, 2, 62, 63, 2, 45, 59, 76, 67], [77, 12, 2, 60, 83, 2, 51, 67, 61, 78, 73, 76, 2, 37, 79, 65, 73, 1, 0, 1, 0, 49, 66, 67, 77]]\n",
      "[[73, 69, 2, 73, 64, 2, 43, 73, 78, 76, 63, 13, 33, 59, 71, 63, 2, 62, 63, 2, 45, 59, 76, 67, 77], [12, 2, 60, 83, 2, 51, 67, 61, 78, 73, 76, 2, 37, 79, 65, 73, 1, 0, 1, 0, 49, 66, 67, 77, 2]]\n",
      "(43500, 25, 1)\n"
     ]
    }
   ],
   "source": [
    "#  from https://github.com/fchollet/keras/blob/master/examples/lstm_text_generation.py\n",
    "char_in = []\n",
    "char_out = []\n",
    "for i in range(0, len(text) - 1 - character_set, character_set):\n",
    "    char_in.append([char_indices[c] for c in text[i: i + character_set]])\n",
    "    char_out.append([char_indices[c] for c in text[i+1: i + 1 + character_set]])\n",
    "\n",
    "print('nb sequences:', len(char_in))\n",
    "print(char_in[1:3])\n",
    "print(char_out[1:3])\n",
    "char_out_3d = np.asarray(np.stack([char_out],axis=2))\n",
    "print(char_out_3d.shape)\n",
    "\n",
    "\n",
    "\n"
   ]
  },
  {
   "cell_type": "code",
   "execution_count": 16,
   "metadata": {
    "hidden": true
   },
   "outputs": [
    {
     "name": "stdout",
     "output_type": "stream",
     "text": [
      "Epoch 1/3\n",
      "43500/43500 [==============================] - 28s - loss: 1.4546    \n",
      "Epoch 2/3\n",
      "43500/43500 [==============================] - 28s - loss: 1.4500    \n",
      "Epoch 3/3\n",
      "43500/43500 [==============================] - 28s - loss: 1.4456    \n"
     ]
    },
    {
     "data": {
      "text/plain": [
       "<keras.callbacks.History at 0x11a683d10>"
      ]
     },
     "execution_count": 16,
     "metadata": {},
     "output_type": "execute_result"
    }
   ],
   "source": []
  },
  {
   "cell_type": "code",
   "execution_count": 24,
   "metadata": {
    "collapsed": true,
    "hidden": true
   },
   "outputs": [],
   "source": [
    "def get_nexts_keras(inp):\n",
    "    idxs = [char_indices[c] for c in inp]\n",
    "    arr = np.array(idxs)[np.newaxis,:]\n",
    "    p = model.predict(arr)[0]\n",
    "\n",
    "    return indices_char[np.argmax(p[7])]"
   ]
  },
  {
   "cell_type": "code",
   "execution_count": null,
   "metadata": {
    "collapsed": true,
    "hidden": true
   },
   "outputs": [],
   "source": [
    "# Selectiveness from https://github.com/fchollet/keras/blob/master/examples/lstm_text_generation.py\n",
    "def sample(preds, temperature=1.0):\n",
    "    # helper function to sample an index from a probability array\n",
    "    preds = np.asarray(preds).astype('float64')\n",
    "    preds = np.log(preds) / temperature\n",
    "    exp_preds = np.exp(preds)\n",
    "    preds = exp_preds / np.sum(exp_preds)    \n",
    "    probas = np.random.multinomial(1, preds, 1)\n",
    "#     print(\"max prob %d vs max preds %d\" % (np.argmax(probas),np.argmax(preds)))\n",
    "    return np.argmax(probas)"
   ]
  },
  {
   "cell_type": "code",
   "execution_count": 28,
   "metadata": {
    "code_folding": [],
    "collapsed": true,
    "hidden": true
   },
   "outputs": [],
   "source": [
    "def gen_sentence(num_sent):\n",
    "    import random\n",
    "    i_space = [i for i, x in enumerate(text) if x == \" \"] \n",
    "    for i in range(num_sent):\n",
    "        len_test = 40\n",
    "        seed_length = 8\n",
    "        start_index = random.randint(0, len(i_space))\n",
    "        sentence = text[i_space[start_index]:i_space[start_index]+len_test]\n",
    "        print(\"----> seed: %s, original: %s\" % (sentence[0:character_set], sentence))\n",
    "\n",
    "        for temp in [-1, 0.2, 0.5, 1, 1.2]:\n",
    "            constructed_sentence = sentence[0:character_set]\n",
    "            next_seed = constructed_sentence\n",
    "            print(\" __ temp %0.1f\" % temp)\n",
    "            for i in range(len_test-character_set):\n",
    "                next_letter = get_nexts_keras(next_seed, temp)\n",
    "                next_seed = next_seed[1:]+next_letter\n",
    "                constructed_sentence = constructed_sentence + next_letter\n",
    "            print(\"constructed: %s\" % constructed_sentence)"
   ]
  },
  {
   "cell_type": "code",
   "execution_count": null,
   "metadata": {
    "collapsed": true,
    "hidden": true
   },
   "outputs": [],
   "source": [
    "model.lr=0.0001\n",
    "model.fit(char_in, char_out_3d, batch_size=64, nb_epoch=3)\n",
    "\n",
    "gen_sentence(3)"
   ]
  },
  {
   "cell_type": "markdown",
   "metadata": {},
   "source": [
    "# Stateful RNN"
   ]
  },
  {
   "cell_type": "code",
   "execution_count": 12,
   "metadata": {},
   "outputs": [
    {
     "name": "stdout",
     "output_type": "stream",
     "text": [
      "____________________________________________________________________________________________________\n",
      "Layer (type)                     Output Shape          Param #     Connected to                     \n",
      "====================================================================================================\n",
      "embedding_2 (Embedding)          (64, 25, 25)          2875        embedding_input_2[0][0]          \n",
      "____________________________________________________________________________________________________\n",
      "batchnormalization_2 (BatchNorma (64, 25, 25)          100         embedding_2[0][0]                \n",
      "____________________________________________________________________________________________________\n",
      "dropout_2 (Dropout)              (64, 25, 25)          0           batchnormalization_2[0][0]       \n",
      "____________________________________________________________________________________________________\n",
      "lstm_2 (LSTM)                    (64, 25, 256)         288768      dropout_2[0][0]                  \n",
      "____________________________________________________________________________________________________\n",
      "timedistributed_2 (TimeDistribut (64, 25, 115)         29555       lstm_2[0][0]                     \n",
      "====================================================================================================\n",
      "Total params: 321,298\n",
      "Trainable params: 321,248\n",
      "Non-trainable params: 50\n",
      "____________________________________________________________________________________________________\n"
     ]
    }
   ],
   "source": [
    "embedding_size = 25\n",
    "hidden_layers = 256\n",
    "character_set = 25\n",
    "vocab_size = len(chars)+1\n",
    "batch_size = 64\n",
    "dropout = 0.2\n",
    "crop_size = 8\n",
    "model=Sequential([\n",
    "        Embedding(vocab_size, embedding_size, W_regularizer=l2(1e-6), input_length=character_set, batch_input_shape=(batch_size,character_set)),\n",
    "        BatchNormalization(),\n",
    "        Dropout(dropout),\n",
    "        LSTM(hidden_layers, return_sequences=True, stateful=True, dropout_W=dropout, dropout_U=dropout),\n",
    "        TimeDistributed(Dense(vocab_size, activation='softmax'))\n",
    "    ])\n",
    "\n",
    "model.compile(loss='sparse_categorical_crossentropy', optimizer=Adam())\n",
    "model.summary()\n"
   ]
  },
  {
   "cell_type": "code",
   "execution_count": 13,
   "metadata": {
    "code_folding": [
     0
    ]
   },
   "outputs": [
    {
     "name": "stdout",
     "output_type": "stream",
     "text": [
      "nb sequences: 43500\n",
      "43456\n",
      "43456\n",
      "[[73, 73, 69, 2, 73, 64, 2, 43, 73, 78, 76, 63, 13, 33, 59, 71, 63, 2, 62, 63, 2, 45, 59, 76, 67], [77, 12, 2, 60, 83, 2, 51, 67, 61, 78, 73, 76, 2, 37, 79, 65, 73, 1, 0, 1, 0, 49, 66, 67, 77]]\n",
      "[[73, 69, 2, 73, 64, 2, 43, 73, 78, 76, 63, 13, 33, 59, 71, 63, 2, 62, 63, 2, 45, 59, 76, 67, 77], [12, 2, 60, 83, 2, 51, 67, 61, 78, 73, 76, 2, 37, 79, 65, 73, 1, 0, 1, 0, 49, 66, 67, 77, 2]]\n",
      "(43456, 25, 1)\n"
     ]
    }
   ],
   "source": [
    "#  from https://github.com/fchollet/keras/blob/master/examples/lstm_text_generation.py\n",
    "char_in = []\n",
    "char_out = []\n",
    "for i in range(0, len(text) - 1 - character_set, character_set):\n",
    "    char_in.append([char_indices[c] for c in text[i: i + character_set]])\n",
    "    char_out.append([char_indices[c] for c in text[i+1: i + 1 + character_set]])\n",
    "\n",
    "print('nb sequences:', len(char_in))\n",
    "## truncate to multiple batch size\n",
    "mult_bs = (len(char_in)//batch_size)*batch_size\n",
    "print(mult_bs)\n",
    "print(len(char_in[:mult_bs]))\n",
    "print(char_in[1:3])\n",
    "print(char_out[1:3])\n",
    "char_out_3d = np.asarray(np.stack([char_out[:mult_bs]],axis=2))\n",
    "char_in = char_in[:mult_bs]\n",
    "print(char_out_3d.shape)\n",
    "\n"
   ]
  },
  {
   "cell_type": "code",
   "execution_count": 23,
   "metadata": {
    "code_folding": [],
    "collapsed": true
   },
   "outputs": [],
   "source": [
    "def get_nexts_keras(inp, indice = 8, temperature= -1 ):\n",
    "    idxs = [char_indices[c] for c in inp]\n",
    "    arr = np.array(idxs)[np.newaxis,:]\n",
    "    arr_b = np.repeat(arr, batch_size, axis=0)\n",
    "    p = model.predict(arr_b, batch_size=batch_size)[0]\n",
    "    if temperature < 0:\n",
    "        return indices_char[np.argmax(p[indice])]\n",
    "    else:\n",
    "        return indices_char[sample(p[indice],temperature)]"
   ]
  },
  {
   "cell_type": "code",
   "execution_count": 18,
   "metadata": {
    "code_folding": [],
    "collapsed": true
   },
   "outputs": [],
   "source": [
    "def gen_sentence( seed = '', num_char_generated = 40):\n",
    "    import random\n",
    "    i_space = [i for i, x in enumerate(text) if x == \" \"] \n",
    "    len_test = num_char_generated\n",
    "    temp_range = [-1] #[-1, 0.2, 0.5, 1, 1.2]\n",
    "\n",
    "    if seed < character_set:\n",
    "        start_index = random.randint(0, len(i_space))\n",
    "        sentence = text[i_space[start_index]:i_space[start_index]+len_test]\n",
    "        print(\"----> seed: %s, original: %s\" % (sentence[0:character_set], sentence))\n",
    "    else:\n",
    "        sentence = seed\n",
    "\n",
    "    for temp in temp_range:\n",
    "        constructed_sentence = sentence[0:character_set]\n",
    "        next_seed = constructed_sentence\n",
    "        print(\" __ temp %0.1f\" % temp)\n",
    "        for i in range(len_test-character_set):\n",
    "            next_letter = get_nexts_keras(next_seed, temp)\n",
    "            next_seed = next_seed[1:]+next_letter\n",
    "            constructed_sentence = constructed_sentence + next_letter\n",
    "        print(\"constructed: %s\" % constructed_sentence)"
   ]
  },
  {
   "cell_type": "code",
   "execution_count": 15,
   "metadata": {
    "code_folding": [],
    "collapsed": true
   },
   "outputs": [],
   "source": [
    "# Selectiveness from https://github.com/fchollet/keras/blob/master/examples/lstm_text_generation.py\n",
    "def sample(preds, temperature=1.0):\n",
    "    # helper function to sample an index from a probability array\n",
    "    preds = np.asarray(preds).astype('float64')\n",
    "    preds = np.log(preds) / temperature\n",
    "    exp_preds = np.exp(preds)\n",
    "    preds = exp_preds / np.sum(exp_preds)    \n",
    "    probas = np.random.multinomial(1, preds, 1)\n",
    "#     print(\"max prob %d vs max preds %d\" % (np.argmax(probas),np.argmax(preds)))\n",
    "    return np.argmax(probas)\n",
    " "
   ]
  },
  {
   "cell_type": "code",
   "execution_count": 17,
   "metadata": {
    "collapsed": true
   },
   "outputs": [],
   "source": [
    "def get_outputs(inp, temperature= -1):\n",
    "    idxs = [char_indices[c] for c in inp]\n",
    "    arr = np.array(idxs)[np.newaxis,:]\n",
    "    arr_b = np.repeat(arr, batch_size, axis=0)\n",
    "    p = model.predict(arr_b, batch_size=batch_size)[0]\n",
    "    constructed=\"\"\n",
    "    for indice in range(len(p)):\n",
    "        if temperature < 0:\n",
    "            constructed+=indices_char[np.argmax(p[indice])] \n",
    "        else:\n",
    "            constructed+=indices_char[sample(p[indice],temperature)]\n",
    "            \n",
    "    print(constructed)"
   ]
  },
  {
   "cell_type": "code",
   "execution_count": 23,
   "metadata": {},
   "outputs": [
    {
     "name": "stdout",
     "output_type": "stream",
     "text": [
      "e  e  n L'est lar le pêbl\n",
      "----> seed:  le règne\n",
      "de Philippe V,, original:  le règne\n",
      "de Philippe V, le plus long d\n",
      " __ temp -1.0\n",
      "constructed:  le règne\n",
      "de Philippe V, et le prêtre d\n"
     ]
    }
   ],
   "source": [
    "get_outputs(\"mystere. C'est sur la tab\", -1)\n",
    "gen_sentence(1, \"\")"
   ]
  },
  {
   "cell_type": "code",
   "execution_count": 24,
   "metadata": {
    "scrolled": false
   },
   "outputs": [
    {
     "name": "stdout",
     "output_type": "stream",
     "text": [
      "=== iteration 0 ===\n",
      "Epoch 1/5\n",
      "43456/43456 [==============================] - 93s - loss: 1.7493    \n",
      "Epoch 2/5\n",
      "43456/43456 [==============================] - 94s - loss: 1.7409    \n",
      "Epoch 3/5\n",
      "43456/43456 [==============================] - 99s - loss: 1.7342    \n",
      "Epoch 4/5\n",
      "43456/43456 [==============================] - 98s - loss: 1.7291    \n",
      "Epoch 5/5\n",
      "43456/43456 [==============================] - 99s - loss: 1.7248    \n",
      "----> seed:  est éteinte, et je n'ai , original:  est éteinte, et je n'ai plus que la\n",
      "vi\n",
      " __ temp -1.0\n",
      "constructed:  est éteinte, et je n'ai pas de la place\n",
      "=== iteration 1 ===\n",
      "Epoch 1/5\n",
      "43456/43456 [==============================] - 98s - loss: 1.7193    \n",
      "Epoch 2/5\n",
      "43456/43456 [==============================] - 102s - loss: 1.7152   \n",
      "Epoch 3/5\n",
      "43456/43456 [==============================] - 105s - loss: 1.7107   \n",
      "Epoch 4/5\n",
      "43456/43456 [==============================] - 105s - loss: 1.7075   \n",
      "Epoch 5/5\n",
      "43456/43456 [==============================] - 102s - loss: 1.7044   \n",
      "----> seed:  sa place, attendant qu'o, original:  sa place, attendant qu'on disposât\n",
      "d'e\n",
      " __ temp -1.0\n",
      "constructed:  sa place, attendant qu'on ne se regarda\n",
      "=== iteration 2 ===\n",
      "Epoch 1/5\n",
      "43456/43456 [==============================] - 102s - loss: 1.7009   \n",
      "Epoch 2/5\n",
      "43456/43456 [==============================] - 102s - loss: 1.6990   \n",
      "Epoch 3/5\n",
      "43456/43456 [==============================] - 103s - loss: 1.6951   \n",
      "Epoch 4/5\n",
      "43456/43456 [==============================] - 296s - loss: 1.6920   \n",
      "Epoch 5/5\n",
      "43456/43456 [==============================] - 102s - loss: 1.6904   \n",
      "----> seed:  quartiers, le geôlier du, original:  quartiers, le geôlier du\n",
      "Châtelet, les\n",
      " __ temp -1.0\n",
      "constructed:  quartiers, le geôlier du porte de la pl\n",
      "=== iteration 3 ===\n",
      "Epoch 1/5\n",
      "43456/43456 [==============================] - 95s - loss: 1.6890    \n",
      "Epoch 2/5\n",
      "43456/43456 [==============================] - 96s - loss: 1.6865    \n",
      "Epoch 3/5\n",
      "43456/43456 [==============================] - 96s - loss: 1.6842    \n",
      "Epoch 4/5\n",
      "43456/43456 [==============================] - 96s - loss: 1.6823    \n",
      "Epoch 5/5\n",
      "43456/43456 [==============================] - 96s - loss: 1.6796    \n",
      "----> seed:  La féodalité avait const, original:  La féodalité avait construit ces\n",
      "grand\n",
      " __ temp -1.0\n",
      "constructed:  La féodalité avait constant de la porte\n",
      "=== iteration 4 ===\n",
      "Epoch 1/5\n",
      "43456/43456 [==============================] - 96s - loss: 1.6784    \n",
      "Epoch 2/5\n",
      "43456/43456 [==============================] - 289s - loss: 1.6770   \n",
      "Epoch 3/5\n",
      "43456/43456 [==============================] - 7480s - loss: 1.6752   \n",
      "Epoch 4/5\n",
      "43456/43456 [==============================] - 112s - loss: 1.6739   \n",
      "Epoch 5/5\n",
      "43456/43456 [==============================] - 108s - loss: 1.6722   \n",
      "----> seed:  sommeil. Un joyeux rayon, original:  sommeil. Un joyeux rayon du soleil leva\n",
      " __ temp -1.0\n",
      "constructed:  sommeil. Un joyeux rayons de la place d\n",
      "=== iteration 5 ===\n",
      "Epoch 1/5\n",
      "43456/43456 [==============================] - 106s - loss: 1.6700   \n",
      "Epoch 2/5\n",
      "43456/43456 [==============================] - 105s - loss: 1.6686   \n",
      "Epoch 3/5\n",
      "43456/43456 [==============================] - 106s - loss: 1.6679   \n",
      "Epoch 4/5\n",
      "43456/43456 [==============================] - 101s - loss: 1.6658   \n",
      "Epoch 5/5\n",
      "43456/43456 [==============================] - 101s - loss: 1.6655   \n",
      "----> seed:  que\n",
      "les piques. Après u, original:  que\n",
      "les piques. Après une pause d'un i\n",
      " __ temp -1.0\n",
      "constructed:  que\n",
      "les piques. Après un peu de la pla\n",
      "=== iteration 6 ===\n",
      "Epoch 1/5\n",
      "43456/43456 [==============================] - 99s - loss: 1.6644    \n",
      "Epoch 2/5\n",
      "43456/43456 [==============================] - 100s - loss: 1.6632   \n",
      "Epoch 3/5\n",
      "43456/43456 [==============================] - 104s - loss: 1.6623   \n",
      "Epoch 4/5\n",
      "43456/43456 [==============================] - 113s - loss: 1.6613   \n",
      "Epoch 5/5\n",
      "43456/43456 [==============================] - 115s - loss: 1.6608   \n",
      "----> seed:  quelles pensées l'infort, original:  quelles pensées l'infortuné se\n",
      "débatta\n",
      " __ temp -1.0\n",
      "constructed:  quelles pensées l'inforte de la place d\n",
      "=== iteration 7 ===\n",
      "Epoch 1/5\n",
      "43456/43456 [==============================] - 114s - loss: 1.6582   \n",
      "Epoch 2/5\n",
      "43456/43456 [==============================] - 115s - loss: 1.6584   \n",
      "Epoch 3/5\n",
      "43456/43456 [==============================] - 120s - loss: 1.6574   \n",
      "Epoch 4/5\n",
      "43456/43456 [==============================] - 108s - loss: 1.6564   \n",
      "Epoch 5/5\n",
      "43456/43456 [==============================] - 109s - loss: 1.6536   \n",
      "----> seed:  suffisait. D'ailleurs mo, original:  suffisait. D'ailleurs monsieur le cardi\n",
      " __ temp -1.0\n",
      "constructed:  suffisait. D'ailleurs monsieur les parl\n",
      "=== iteration 8 ===\n",
      "Epoch 1/5\n",
      "43456/43456 [==============================] - 104s - loss: 1.6539   \n",
      "Epoch 2/5\n",
      "43456/43456 [==============================] - 105s - loss: 1.6515   \n",
      "Epoch 3/5\n",
      "43456/43456 [==============================] - 106s - loss: 1.6520   \n",
      "Epoch 4/5\n",
      "43456/43456 [==============================] - 103s - loss: 1.6514   \n",
      "Epoch 5/5\n",
      "43456/43456 [==============================] - 1482s - loss: 1.6514  \n",
      "----> seed:  avait fait suivre à leur, original:  avait fait suivre à leurs deux\n",
      "destiné\n",
      " __ temp -1.0\n",
      "constructed:  avait fait suivre à leur particulier de\n",
      "=== iteration 9 ===\n",
      "Epoch 1/5\n",
      "43456/43456 [==============================] - 108s - loss: 1.6493   \n",
      "Epoch 2/5\n",
      "43456/43456 [==============================] - 97s - loss: 1.6492    \n",
      "Epoch 3/5\n",
      "43456/43456 [==============================] - 97s - loss: 1.6475    \n",
      "Epoch 4/5\n",
      "43456/43456 [==============================] - 108s - loss: 1.6468   \n",
      "Epoch 5/5\n",
      "43456/43456 [==============================] - 101s - loss: 1.6460   \n",
      "----> seed:  capricieuse et si isolée, original:  capricieuse et si isolée qu'elle semble\n",
      " __ temp -1.0\n",
      "constructed:  capricieuse et si isolée de la porte de\n",
      "=== iteration 10 ===\n",
      "Epoch 1/5\n",
      "43456/43456 [==============================] - 100s - loss: 1.6458   \n",
      "Epoch 2/5\n",
      "43456/43456 [==============================] - 101s - loss: 1.6452   \n",
      "Epoch 3/5\n",
      " 3648/43456 [=>............................] - ETA: 99s - loss: 1.6419"
     ]
    },
    {
     "ename": "KeyboardInterrupt",
     "evalue": "",
     "output_type": "error",
     "traceback": [
      "\u001b[0;31m---------------------------------------------------------------------------\u001b[0m",
      "\u001b[0;31mKeyboardInterrupt\u001b[0m                         Traceback (most recent call last)",
      "\u001b[0;32m<ipython-input-24-8b91e7ab7ad5>\u001b[0m in \u001b[0;36m<module>\u001b[0;34m()\u001b[0m\n\u001b[1;32m      2\u001b[0m \u001b[0;32mfor\u001b[0m \u001b[0mi\u001b[0m \u001b[0;32min\u001b[0m \u001b[0mrange\u001b[0m\u001b[0;34m(\u001b[0m\u001b[0;36m20\u001b[0m\u001b[0;34m)\u001b[0m\u001b[0;34m:\u001b[0m\u001b[0;34m\u001b[0m\u001b[0m\n\u001b[1;32m      3\u001b[0m     \u001b[0;32mprint\u001b[0m \u001b[0;34m(\u001b[0m\u001b[0;34m\"=== iteration %d ===\"\u001b[0m \u001b[0;34m%\u001b[0m \u001b[0mi\u001b[0m\u001b[0;34m)\u001b[0m\u001b[0;34m\u001b[0m\u001b[0m\n\u001b[0;32m----> 4\u001b[0;31m     \u001b[0mmodel\u001b[0m\u001b[0;34m.\u001b[0m\u001b[0mfit\u001b[0m\u001b[0;34m(\u001b[0m\u001b[0mchar_in\u001b[0m\u001b[0;34m,\u001b[0m \u001b[0mchar_out_3d\u001b[0m\u001b[0;34m,\u001b[0m \u001b[0mbatch_size\u001b[0m\u001b[0;34m=\u001b[0m\u001b[0;36m64\u001b[0m\u001b[0;34m,\u001b[0m \u001b[0mnb_epoch\u001b[0m\u001b[0;34m=\u001b[0m\u001b[0;36m5\u001b[0m\u001b[0;34m)\u001b[0m\u001b[0;34m\u001b[0m\u001b[0m\n\u001b[0m\u001b[1;32m      5\u001b[0m     \u001b[0mgen_sentence\u001b[0m\u001b[0;34m(\u001b[0m\u001b[0;36m1\u001b[0m\u001b[0;34m)\u001b[0m\u001b[0;34m\u001b[0m\u001b[0m\n",
      "\u001b[0;32m/Users/jeanfredericplante/anaconda3/envs/fast1/lib/python2.7/site-packages/keras/models.pyc\u001b[0m in \u001b[0;36mfit\u001b[0;34m(self, x, y, batch_size, nb_epoch, verbose, callbacks, validation_split, validation_data, shuffle, class_weight, sample_weight, initial_epoch, **kwargs)\u001b[0m\n\u001b[1;32m    670\u001b[0m                               \u001b[0mclass_weight\u001b[0m\u001b[0;34m=\u001b[0m\u001b[0mclass_weight\u001b[0m\u001b[0;34m,\u001b[0m\u001b[0;34m\u001b[0m\u001b[0m\n\u001b[1;32m    671\u001b[0m                               \u001b[0msample_weight\u001b[0m\u001b[0;34m=\u001b[0m\u001b[0msample_weight\u001b[0m\u001b[0;34m,\u001b[0m\u001b[0;34m\u001b[0m\u001b[0m\n\u001b[0;32m--> 672\u001b[0;31m                               initial_epoch=initial_epoch)\n\u001b[0m\u001b[1;32m    673\u001b[0m \u001b[0;34m\u001b[0m\u001b[0m\n\u001b[1;32m    674\u001b[0m     def evaluate(self, x, y, batch_size=32, verbose=1,\n",
      "\u001b[0;32m/Users/jeanfredericplante/anaconda3/envs/fast1/lib/python2.7/site-packages/keras/engine/training.pyc\u001b[0m in \u001b[0;36mfit\u001b[0;34m(self, x, y, batch_size, nb_epoch, verbose, callbacks, validation_split, validation_data, shuffle, class_weight, sample_weight, initial_epoch)\u001b[0m\n\u001b[1;32m   1194\u001b[0m                               \u001b[0mval_f\u001b[0m\u001b[0;34m=\u001b[0m\u001b[0mval_f\u001b[0m\u001b[0;34m,\u001b[0m \u001b[0mval_ins\u001b[0m\u001b[0;34m=\u001b[0m\u001b[0mval_ins\u001b[0m\u001b[0;34m,\u001b[0m \u001b[0mshuffle\u001b[0m\u001b[0;34m=\u001b[0m\u001b[0mshuffle\u001b[0m\u001b[0;34m,\u001b[0m\u001b[0;34m\u001b[0m\u001b[0m\n\u001b[1;32m   1195\u001b[0m                               \u001b[0mcallback_metrics\u001b[0m\u001b[0;34m=\u001b[0m\u001b[0mcallback_metrics\u001b[0m\u001b[0;34m,\u001b[0m\u001b[0;34m\u001b[0m\u001b[0m\n\u001b[0;32m-> 1196\u001b[0;31m                               initial_epoch=initial_epoch)\n\u001b[0m\u001b[1;32m   1197\u001b[0m \u001b[0;34m\u001b[0m\u001b[0m\n\u001b[1;32m   1198\u001b[0m     \u001b[0;32mdef\u001b[0m \u001b[0mevaluate\u001b[0m\u001b[0;34m(\u001b[0m\u001b[0mself\u001b[0m\u001b[0;34m,\u001b[0m \u001b[0mx\u001b[0m\u001b[0;34m,\u001b[0m \u001b[0my\u001b[0m\u001b[0;34m,\u001b[0m \u001b[0mbatch_size\u001b[0m\u001b[0;34m=\u001b[0m\u001b[0;36m32\u001b[0m\u001b[0;34m,\u001b[0m \u001b[0mverbose\u001b[0m\u001b[0;34m=\u001b[0m\u001b[0;36m1\u001b[0m\u001b[0;34m,\u001b[0m \u001b[0msample_weight\u001b[0m\u001b[0;34m=\u001b[0m\u001b[0mNone\u001b[0m\u001b[0;34m)\u001b[0m\u001b[0;34m:\u001b[0m\u001b[0;34m\u001b[0m\u001b[0m\n",
      "\u001b[0;32m/Users/jeanfredericplante/anaconda3/envs/fast1/lib/python2.7/site-packages/keras/engine/training.pyc\u001b[0m in \u001b[0;36m_fit_loop\u001b[0;34m(self, f, ins, out_labels, batch_size, nb_epoch, verbose, callbacks, val_f, val_ins, shuffle, callback_metrics, initial_epoch)\u001b[0m\n\u001b[1;32m    889\u001b[0m                 \u001b[0mbatch_logs\u001b[0m\u001b[0;34m[\u001b[0m\u001b[0;34m'size'\u001b[0m\u001b[0;34m]\u001b[0m \u001b[0;34m=\u001b[0m \u001b[0mlen\u001b[0m\u001b[0;34m(\u001b[0m\u001b[0mbatch_ids\u001b[0m\u001b[0;34m)\u001b[0m\u001b[0;34m\u001b[0m\u001b[0m\n\u001b[1;32m    890\u001b[0m                 \u001b[0mcallbacks\u001b[0m\u001b[0;34m.\u001b[0m\u001b[0mon_batch_begin\u001b[0m\u001b[0;34m(\u001b[0m\u001b[0mbatch_index\u001b[0m\u001b[0;34m,\u001b[0m \u001b[0mbatch_logs\u001b[0m\u001b[0;34m)\u001b[0m\u001b[0;34m\u001b[0m\u001b[0m\n\u001b[0;32m--> 891\u001b[0;31m                 \u001b[0mouts\u001b[0m \u001b[0;34m=\u001b[0m \u001b[0mf\u001b[0m\u001b[0;34m(\u001b[0m\u001b[0mins_batch\u001b[0m\u001b[0;34m)\u001b[0m\u001b[0;34m\u001b[0m\u001b[0m\n\u001b[0m\u001b[1;32m    892\u001b[0m                 \u001b[0;32mif\u001b[0m \u001b[0;32mnot\u001b[0m \u001b[0misinstance\u001b[0m\u001b[0;34m(\u001b[0m\u001b[0mouts\u001b[0m\u001b[0;34m,\u001b[0m \u001b[0mlist\u001b[0m\u001b[0;34m)\u001b[0m\u001b[0;34m:\u001b[0m\u001b[0;34m\u001b[0m\u001b[0m\n\u001b[1;32m    893\u001b[0m                     \u001b[0mouts\u001b[0m \u001b[0;34m=\u001b[0m \u001b[0;34m[\u001b[0m\u001b[0mouts\u001b[0m\u001b[0;34m]\u001b[0m\u001b[0;34m\u001b[0m\u001b[0m\n",
      "\u001b[0;32m/Users/jeanfredericplante/anaconda3/envs/fast1/lib/python2.7/site-packages/keras/backend/tensorflow_backend.pyc\u001b[0m in \u001b[0;36m__call__\u001b[0;34m(self, inputs)\u001b[0m\n\u001b[1;32m   1941\u001b[0m         \u001b[0msession\u001b[0m \u001b[0;34m=\u001b[0m \u001b[0mget_session\u001b[0m\u001b[0;34m(\u001b[0m\u001b[0;34m)\u001b[0m\u001b[0;34m\u001b[0m\u001b[0m\n\u001b[1;32m   1942\u001b[0m         updated = session.run(self.outputs + [self.updates_op],\n\u001b[0;32m-> 1943\u001b[0;31m                               feed_dict=feed_dict)\n\u001b[0m\u001b[1;32m   1944\u001b[0m         \u001b[0;32mreturn\u001b[0m \u001b[0mupdated\u001b[0m\u001b[0;34m[\u001b[0m\u001b[0;34m:\u001b[0m\u001b[0mlen\u001b[0m\u001b[0;34m(\u001b[0m\u001b[0mself\u001b[0m\u001b[0;34m.\u001b[0m\u001b[0moutputs\u001b[0m\u001b[0;34m)\u001b[0m\u001b[0;34m]\u001b[0m\u001b[0;34m\u001b[0m\u001b[0m\n\u001b[1;32m   1945\u001b[0m \u001b[0;34m\u001b[0m\u001b[0m\n",
      "\u001b[0;32m/Users/jeanfredericplante/anaconda3/envs/fast1/lib/python2.7/site-packages/tensorflow/python/client/session.pyc\u001b[0m in \u001b[0;36mrun\u001b[0;34m(self, fetches, feed_dict, options, run_metadata)\u001b[0m\n\u001b[1;32m    893\u001b[0m     \u001b[0;32mtry\u001b[0m\u001b[0;34m:\u001b[0m\u001b[0;34m\u001b[0m\u001b[0m\n\u001b[1;32m    894\u001b[0m       result = self._run(None, fetches, feed_dict, options_ptr,\n\u001b[0;32m--> 895\u001b[0;31m                          run_metadata_ptr)\n\u001b[0m\u001b[1;32m    896\u001b[0m       \u001b[0;32mif\u001b[0m \u001b[0mrun_metadata\u001b[0m\u001b[0;34m:\u001b[0m\u001b[0;34m\u001b[0m\u001b[0m\n\u001b[1;32m    897\u001b[0m         \u001b[0mproto_data\u001b[0m \u001b[0;34m=\u001b[0m \u001b[0mtf_session\u001b[0m\u001b[0;34m.\u001b[0m\u001b[0mTF_GetBuffer\u001b[0m\u001b[0;34m(\u001b[0m\u001b[0mrun_metadata_ptr\u001b[0m\u001b[0;34m)\u001b[0m\u001b[0;34m\u001b[0m\u001b[0m\n",
      "\u001b[0;32m/Users/jeanfredericplante/anaconda3/envs/fast1/lib/python2.7/site-packages/tensorflow/python/client/session.pyc\u001b[0m in \u001b[0;36m_run\u001b[0;34m(self, handle, fetches, feed_dict, options, run_metadata)\u001b[0m\n\u001b[1;32m   1122\u001b[0m     \u001b[0;32mif\u001b[0m \u001b[0mfinal_fetches\u001b[0m \u001b[0;32mor\u001b[0m \u001b[0mfinal_targets\u001b[0m \u001b[0;32mor\u001b[0m \u001b[0;34m(\u001b[0m\u001b[0mhandle\u001b[0m \u001b[0;32mand\u001b[0m \u001b[0mfeed_dict_tensor\u001b[0m\u001b[0;34m)\u001b[0m\u001b[0;34m:\u001b[0m\u001b[0;34m\u001b[0m\u001b[0m\n\u001b[1;32m   1123\u001b[0m       results = self._do_run(handle, final_targets, final_fetches,\n\u001b[0;32m-> 1124\u001b[0;31m                              feed_dict_tensor, options, run_metadata)\n\u001b[0m\u001b[1;32m   1125\u001b[0m     \u001b[0;32melse\u001b[0m\u001b[0;34m:\u001b[0m\u001b[0;34m\u001b[0m\u001b[0m\n\u001b[1;32m   1126\u001b[0m       \u001b[0mresults\u001b[0m \u001b[0;34m=\u001b[0m \u001b[0;34m[\u001b[0m\u001b[0;34m]\u001b[0m\u001b[0;34m\u001b[0m\u001b[0m\n",
      "\u001b[0;32m/Users/jeanfredericplante/anaconda3/envs/fast1/lib/python2.7/site-packages/tensorflow/python/client/session.pyc\u001b[0m in \u001b[0;36m_do_run\u001b[0;34m(self, handle, target_list, fetch_list, feed_dict, options, run_metadata)\u001b[0m\n\u001b[1;32m   1319\u001b[0m     \u001b[0;32mif\u001b[0m \u001b[0mhandle\u001b[0m \u001b[0;32mis\u001b[0m \u001b[0mNone\u001b[0m\u001b[0;34m:\u001b[0m\u001b[0;34m\u001b[0m\u001b[0m\n\u001b[1;32m   1320\u001b[0m       return self._do_call(_run_fn, self._session, feeds, fetches, targets,\n\u001b[0;32m-> 1321\u001b[0;31m                            options, run_metadata)\n\u001b[0m\u001b[1;32m   1322\u001b[0m     \u001b[0;32melse\u001b[0m\u001b[0;34m:\u001b[0m\u001b[0;34m\u001b[0m\u001b[0m\n\u001b[1;32m   1323\u001b[0m       \u001b[0;32mreturn\u001b[0m \u001b[0mself\u001b[0m\u001b[0;34m.\u001b[0m\u001b[0m_do_call\u001b[0m\u001b[0;34m(\u001b[0m\u001b[0m_prun_fn\u001b[0m\u001b[0;34m,\u001b[0m \u001b[0mself\u001b[0m\u001b[0;34m.\u001b[0m\u001b[0m_session\u001b[0m\u001b[0;34m,\u001b[0m \u001b[0mhandle\u001b[0m\u001b[0;34m,\u001b[0m \u001b[0mfeeds\u001b[0m\u001b[0;34m,\u001b[0m \u001b[0mfetches\u001b[0m\u001b[0;34m)\u001b[0m\u001b[0;34m\u001b[0m\u001b[0m\n",
      "\u001b[0;32m/Users/jeanfredericplante/anaconda3/envs/fast1/lib/python2.7/site-packages/tensorflow/python/client/session.pyc\u001b[0m in \u001b[0;36m_do_call\u001b[0;34m(self, fn, *args)\u001b[0m\n\u001b[1;32m   1325\u001b[0m   \u001b[0;32mdef\u001b[0m \u001b[0m_do_call\u001b[0m\u001b[0;34m(\u001b[0m\u001b[0mself\u001b[0m\u001b[0;34m,\u001b[0m \u001b[0mfn\u001b[0m\u001b[0;34m,\u001b[0m \u001b[0;34m*\u001b[0m\u001b[0margs\u001b[0m\u001b[0;34m)\u001b[0m\u001b[0;34m:\u001b[0m\u001b[0;34m\u001b[0m\u001b[0m\n\u001b[1;32m   1326\u001b[0m     \u001b[0;32mtry\u001b[0m\u001b[0;34m:\u001b[0m\u001b[0;34m\u001b[0m\u001b[0m\n\u001b[0;32m-> 1327\u001b[0;31m       \u001b[0;32mreturn\u001b[0m \u001b[0mfn\u001b[0m\u001b[0;34m(\u001b[0m\u001b[0;34m*\u001b[0m\u001b[0margs\u001b[0m\u001b[0;34m)\u001b[0m\u001b[0;34m\u001b[0m\u001b[0m\n\u001b[0m\u001b[1;32m   1328\u001b[0m     \u001b[0;32mexcept\u001b[0m \u001b[0merrors\u001b[0m\u001b[0;34m.\u001b[0m\u001b[0mOpError\u001b[0m \u001b[0;32mas\u001b[0m \u001b[0me\u001b[0m\u001b[0;34m:\u001b[0m\u001b[0;34m\u001b[0m\u001b[0m\n\u001b[1;32m   1329\u001b[0m       \u001b[0mmessage\u001b[0m \u001b[0;34m=\u001b[0m \u001b[0mcompat\u001b[0m\u001b[0;34m.\u001b[0m\u001b[0mas_text\u001b[0m\u001b[0;34m(\u001b[0m\u001b[0me\u001b[0m\u001b[0;34m.\u001b[0m\u001b[0mmessage\u001b[0m\u001b[0;34m)\u001b[0m\u001b[0;34m\u001b[0m\u001b[0m\n",
      "\u001b[0;32m/Users/jeanfredericplante/anaconda3/envs/fast1/lib/python2.7/site-packages/tensorflow/python/client/session.pyc\u001b[0m in \u001b[0;36m_run_fn\u001b[0;34m(session, feed_dict, fetch_list, target_list, options, run_metadata)\u001b[0m\n\u001b[1;32m   1304\u001b[0m           return tf_session.TF_Run(session, options,\n\u001b[1;32m   1305\u001b[0m                                    \u001b[0mfeed_dict\u001b[0m\u001b[0;34m,\u001b[0m \u001b[0mfetch_list\u001b[0m\u001b[0;34m,\u001b[0m \u001b[0mtarget_list\u001b[0m\u001b[0;34m,\u001b[0m\u001b[0;34m\u001b[0m\u001b[0m\n\u001b[0;32m-> 1306\u001b[0;31m                                    status, run_metadata)\n\u001b[0m\u001b[1;32m   1307\u001b[0m \u001b[0;34m\u001b[0m\u001b[0m\n\u001b[1;32m   1308\u001b[0m     \u001b[0;32mdef\u001b[0m \u001b[0m_prun_fn\u001b[0m\u001b[0;34m(\u001b[0m\u001b[0msession\u001b[0m\u001b[0;34m,\u001b[0m \u001b[0mhandle\u001b[0m\u001b[0;34m,\u001b[0m \u001b[0mfeed_dict\u001b[0m\u001b[0;34m,\u001b[0m \u001b[0mfetch_list\u001b[0m\u001b[0;34m)\u001b[0m\u001b[0;34m:\u001b[0m\u001b[0;34m\u001b[0m\u001b[0m\n",
      "\u001b[0;31mKeyboardInterrupt\u001b[0m: "
     ]
    }
   ],
   "source": [
    "model.lr=0.001\n",
    "for i in range(20):\n",
    "    print (\"=== iteration %d ===\" % i)\n",
    "    model.fit(char_in, char_out_3d, batch_size=64, nb_epoch=5, shuffle=False)\n",
    "    gen_sentence(1)"
   ]
  },
  {
   "cell_type": "code",
   "execution_count": null,
   "metadata": {
    "collapsed": true
   },
   "outputs": [],
   "source": [
    "model.save_weights('./results/lstm_statefull_victorhugo.h5')"
   ]
  }
 ],
 "metadata": {
  "kernelspec": {
   "display_name": "Python 2",
   "language": "python",
   "name": "python2"
  },
  "language_info": {
   "codemirror_mode": {
    "name": "ipython",
    "version": 2
   },
   "file_extension": ".py",
   "mimetype": "text/x-python",
   "name": "python",
   "nbconvert_exporter": "python",
   "pygments_lexer": "ipython2",
   "version": "2.7.14"
  }
 },
 "nbformat": 4,
 "nbformat_minor": 2
}
