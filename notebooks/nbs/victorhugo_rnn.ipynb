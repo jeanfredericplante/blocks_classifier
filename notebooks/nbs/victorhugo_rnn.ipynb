{
 "cells": [
  {
   "cell_type": "code",
   "execution_count": 1,
   "metadata": {
    "scrolled": true
   },
   "outputs": [
    {
     "name": "stderr",
     "output_type": "stream",
     "text": [
      "Using TensorFlow backend.\n"
     ]
    }
   ],
   "source": [
    "from theano.sandbox import cuda\n",
    "\n",
    "%matplotlib inline\n",
    "import utils; reload(utils)\n",
    "from utils import *\n",
    "from __future__ import division, print_function"
   ]
  },
  {
   "cell_type": "markdown",
   "metadata": {
    "heading_collapsed": true
   },
   "source": [
    "# Import corpus"
   ]
  },
  {
   "cell_type": "code",
   "execution_count": 2,
   "metadata": {
    "hidden": true,
    "scrolled": true
   },
   "outputs": [
    {
     "name": "stdout",
     "output_type": "stream",
     "text": [
      "corpus length: 1087507\n",
      "The Project Gutenberg EBook of Notre-Dame de Paris, by Victor Hugo\r\n",
      "\r\n",
      "This eBook is for the use of \n"
     ]
    }
   ],
   "source": [
    "notre_dame = \"http://www.gutenberg.org/cache/epub/19657/pg19657.txt\"\n",
    "lesmiserable1 = \"http://www.gutenberg.org/cache/epub/17489/pg17489.txt\"\n",
    "\n",
    "notredame_path = get_file('nd.txt', origin=str(notre_dame))\n",
    "import codecs\n",
    "\n",
    "text = codecs.open(notredame_path, \"r\", \"utf-8\").read()\n",
    "print('corpus length:', len(text))\n",
    "print(text[1:100])"
   ]
  },
  {
   "cell_type": "code",
   "execution_count": 3,
   "metadata": {
    "hidden": true
   },
   "outputs": [
    {
     "name": "stdout",
     "output_type": "stream",
     "text": [
      "total chars: 115\n",
      "ï\n",
      "ñ\n",
      "ô\n",
      "ù\n",
      "û\n",
      "﻿\n"
     ]
    }
   ],
   "source": [
    "chars = sorted(list(set(text)))\n",
    "vocab_size = len(chars)+1\n",
    "print('total chars:', vocab_size)\n",
    "for i in chars[-6:]: print(i)"
   ]
  },
  {
   "cell_type": "code",
   "execution_count": 4,
   "metadata": {
    "collapsed": true,
    "hidden": true
   },
   "outputs": [],
   "source": [
    "char_indices = dict((c, i) for i, c in enumerate(chars))\n",
    "indices_char = dict((i, c) for i, c in enumerate(chars))"
   ]
  },
  {
   "cell_type": "code",
   "execution_count": 5,
   "metadata": {
    "hidden": true
   },
   "outputs": [
    {
     "data": {
      "text/plain": [
       "[49, 66, 63, 2, 45, 76, 73, 68, 63]"
      ]
     },
     "execution_count": 5,
     "metadata": {},
     "output_type": "execute_result"
    }
   ],
   "source": [
    "idx = [char_indices[c] for i,c in enumerate(text)]\n",
    "idx[1:10]"
   ]
  },
  {
   "cell_type": "code",
   "execution_count": 6,
   "metadata": {
    "hidden": true
   },
   "outputs": [
    {
     "data": {
      "text/plain": [
       "u'The Project Gutenberg EBook of Notre-Dame de Pari'"
      ]
     },
     "execution_count": 6,
     "metadata": {},
     "output_type": "execute_result"
    }
   ],
   "source": [
    "\"\".join(indices_char[i] for i in idx[1:50])"
   ]
  },
  {
   "cell_type": "markdown",
   "metadata": {},
   "source": [
    "# Simple RNN "
   ]
  },
  {
   "cell_type": "code",
   "execution_count": 7,
   "metadata": {
    "collapsed": true
   },
   "outputs": [],
   "source": [
    "embedding_size = 42\n",
    "hidden_layers = 256\n",
    "character_set = 8\n",
    "vocab_size = len(chars)+1"
   ]
  },
  {
   "cell_type": "code",
   "execution_count": 8,
   "metadata": {},
   "outputs": [
    {
     "name": "stdout",
     "output_type": "stream",
     "text": [
      "____________________________________________________________________________________________________\n",
      "Layer (type)                     Output Shape          Param #     Connected to                     \n",
      "====================================================================================================\n",
      "embedding_1 (Embedding)          (None, 8, 42)         4830        embedding_input_1[0][0]          \n",
      "____________________________________________________________________________________________________\n",
      "simplernn_1 (SimpleRNN)          (None, 256)           76544       embedding_1[0][0]                \n",
      "____________________________________________________________________________________________________\n",
      "dense_1 (Dense)                  (None, 115)           29555       simplernn_1[0][0]                \n",
      "====================================================================================================\n",
      "Total params: 110,929\n",
      "Trainable params: 110,929\n",
      "Non-trainable params: 0\n",
      "____________________________________________________________________________________________________\n"
     ]
    }
   ],
   "source": [
    "model=Sequential([\n",
    "        Embedding(vocab_size, embedding_size, input_length=character_set),\n",
    "        SimpleRNN(hidden_layers, activation='relu', inner_init='identity'),\n",
    "        Dense(vocab_size, activation='softmax')\n",
    "    ])\n",
    "model.summary()"
   ]
  },
  {
   "cell_type": "code",
   "execution_count": 9,
   "metadata": {
    "collapsed": true
   },
   "outputs": [],
   "source": [
    "model.compile(loss='sparse_categorical_crossentropy', optimizer=Adam())\n"
   ]
  },
  {
   "cell_type": "markdown",
   "metadata": {
    "heading_collapsed": true
   },
   "source": [
    "## Preprocess input and output"
   ]
  },
  {
   "cell_type": "code",
   "execution_count": 10,
   "metadata": {
    "hidden": true
   },
   "outputs": [
    {
     "data": {
      "text/plain": [
       "int"
      ]
     },
     "execution_count": 10,
     "metadata": {},
     "output_type": "execute_result"
    }
   ],
   "source": [
    "type(idx[0])"
   ]
  },
  {
   "cell_type": "code",
   "execution_count": 11,
   "metadata": {
    "hidden": true
   },
   "outputs": [
    {
     "ename": "NameError",
     "evalue": "name 'sequences' is not defined",
     "output_type": "error",
     "traceback": [
      "\u001b[0;31m---------------------------------------------------------------------------\u001b[0m",
      "\u001b[0;31mNameError\u001b[0m                                 Traceback (most recent call last)",
      "\u001b[0;32m<ipython-input-11-0b404d7e251e>\u001b[0m in \u001b[0;36m<module>\u001b[0;34m()\u001b[0m\n\u001b[1;32m      5\u001b[0m     \u001b[0mchar_in\u001b[0m\u001b[0;34m.\u001b[0m\u001b[0mappend\u001b[0m\u001b[0;34m(\u001b[0m\u001b[0;34m[\u001b[0m\u001b[0mchar_indices\u001b[0m\u001b[0;34m[\u001b[0m\u001b[0mc\u001b[0m\u001b[0;34m]\u001b[0m \u001b[0;32mfor\u001b[0m \u001b[0mc\u001b[0m \u001b[0;32min\u001b[0m \u001b[0mtext\u001b[0m\u001b[0;34m[\u001b[0m\u001b[0mi\u001b[0m\u001b[0;34m:\u001b[0m \u001b[0mi\u001b[0m \u001b[0;34m+\u001b[0m \u001b[0mcharacter_set\u001b[0m\u001b[0;34m]\u001b[0m\u001b[0;34m]\u001b[0m\u001b[0;34m)\u001b[0m\u001b[0;34m\u001b[0m\u001b[0m\n\u001b[1;32m      6\u001b[0m     \u001b[0mchar_out\u001b[0m\u001b[0;34m.\u001b[0m\u001b[0mappend\u001b[0m\u001b[0;34m(\u001b[0m\u001b[0mchar_indices\u001b[0m\u001b[0;34m[\u001b[0m\u001b[0mtext\u001b[0m\u001b[0;34m[\u001b[0m\u001b[0mi\u001b[0m \u001b[0;34m+\u001b[0m \u001b[0mcharacter_set\u001b[0m\u001b[0;34m]\u001b[0m\u001b[0;34m]\u001b[0m\u001b[0;34m)\u001b[0m\u001b[0;34m\u001b[0m\u001b[0m\n\u001b[0;32m----> 7\u001b[0;31m \u001b[0;32mprint\u001b[0m\u001b[0;34m(\u001b[0m\u001b[0;34m'nb sequences:'\u001b[0m\u001b[0;34m,\u001b[0m \u001b[0mlen\u001b[0m\u001b[0;34m(\u001b[0m\u001b[0msequences\u001b[0m\u001b[0;34m)\u001b[0m\u001b[0;34m)\u001b[0m\u001b[0;34m\u001b[0m\u001b[0m\n\u001b[0m\u001b[1;32m      8\u001b[0m \u001b[0;34m\u001b[0m\u001b[0m\n\u001b[1;32m      9\u001b[0m \u001b[0msequences\u001b[0m\u001b[0;34m[\u001b[0m\u001b[0;36m1\u001b[0m\u001b[0;34m]\u001b[0m\u001b[0;34m\u001b[0m\u001b[0m\n",
      "\u001b[0;31mNameError\u001b[0m: name 'sequences' is not defined"
     ]
    }
   ],
   "source": [
    "#  from https://github.com/fchollet/keras/blob/master/examples/lstm_text_generation.py\n",
    "char_in = []\n",
    "char_out = []\n",
    "for i in range(0, len(text) - 1 - character_set, character_set):\n",
    "    char_in.append([char_indices[c] for c in text[i: i + character_set]])\n",
    "    char_out.append(char_indices[text[i + character_set]])\n",
    "print('nb sequences:', len(char_in))\n",
    "\n",
    "sequences[1]\n",
    "# x= np.zeros(character_set,)\n",
    "# y =[]\n",
    "# for i, seq in enumerate(sequences):\n",
    "#     for j, char in enumerate(seq):\n",
    "#         x[]\n"
   ]
  },
  {
   "cell_type": "markdown",
   "metadata": {},
   "source": [
    "## Fit"
   ]
  },
  {
   "cell_type": "code",
   "execution_count": 17,
   "metadata": {},
   "outputs": [
    {
     "name": "stdout",
     "output_type": "stream",
     "text": [
      "Epoch 1/3\n",
      "135938/135938 [==============================] - 24s - loss: 1.3895    \n",
      "Epoch 2/3\n",
      "135938/135938 [==============================] - 24s - loss: 1.3795    \n",
      "Epoch 3/3\n",
      "135938/135938 [==============================] - 25s - loss: 1.3686    \n"
     ]
    },
    {
     "data": {
      "text/plain": [
       "<keras.callbacks.History at 0x11a3a5390>"
      ]
     },
     "execution_count": 17,
     "metadata": {},
     "output_type": "execute_result"
    }
   ],
   "source": [
    "model.optimizer.lr=0.0001\n",
    "model.fit(char_in, char_out, batch_size=64, nb_epoch=3)"
   ]
  },
  {
   "cell_type": "code",
   "execution_count": 58,
   "metadata": {
    "collapsed": true
   },
   "outputs": [],
   "source": [
    "def get_nexts_keras(inp):\n",
    "    idxs = [char_indices[c] for c in inp]\n",
    "    arr = np.array(idxs)[np.newaxis,:]\n",
    "    p = model.predict(arr)[0]\n",
    "    return indices_char[np.argmax(p)]\n",
    "#     print(p)b\n",
    "#     return [chars[np.argmax(o)] for o in p]"
   ]
  },
  {
   "cell_type": "code",
   "execution_count": 20,
   "metadata": {},
   "outputs": [
    {
     "name": "stdout",
     "output_type": "stream",
     "text": [
      "seed:  de temp, original:  de temps en temps quand\r\n",
      "Gringoire les \n"
     ]
    },
    {
     "ename": "KeyError",
     "evalue": "730",
     "output_type": "error",
     "traceback": [
      "\u001b[0;31m---------------------------------------------------------------------------\u001b[0m",
      "\u001b[0;31mKeyError\u001b[0m                                  Traceback (most recent call last)",
      "\u001b[0;32m<ipython-input-20-dcd1a266d792>\u001b[0m in \u001b[0;36m<module>\u001b[0;34m()\u001b[0m\n\u001b[1;32m      9\u001b[0m     \u001b[0;32mprint\u001b[0m\u001b[0;34m(\u001b[0m\u001b[0;34m\"seed: %s, original: %s\"\u001b[0m \u001b[0;34m%\u001b[0m \u001b[0;34m(\u001b[0m\u001b[0mconstructed_sentence\u001b[0m\u001b[0;34m,\u001b[0m \u001b[0msentence\u001b[0m\u001b[0;34m)\u001b[0m\u001b[0;34m)\u001b[0m\u001b[0;34m\u001b[0m\u001b[0m\n\u001b[1;32m     10\u001b[0m     \u001b[0;32mfor\u001b[0m \u001b[0mi\u001b[0m \u001b[0;32min\u001b[0m \u001b[0mrange\u001b[0m\u001b[0;34m(\u001b[0m\u001b[0mlen_test\u001b[0m\u001b[0;34m-\u001b[0m\u001b[0mcharacter_set\u001b[0m\u001b[0;34m)\u001b[0m\u001b[0;34m:\u001b[0m\u001b[0;34m\u001b[0m\u001b[0m\n\u001b[0;32m---> 11\u001b[0;31m         \u001b[0mnext_letter\u001b[0m \u001b[0;34m=\u001b[0m \u001b[0mget_nexts_keras\u001b[0m\u001b[0;34m(\u001b[0m\u001b[0mnext_seed\u001b[0m\u001b[0;34m)\u001b[0m\u001b[0;34m\u001b[0m\u001b[0m\n\u001b[0m\u001b[1;32m     12\u001b[0m         \u001b[0mnext_seed\u001b[0m \u001b[0;34m=\u001b[0m \u001b[0mnext_seed\u001b[0m\u001b[0;34m[\u001b[0m\u001b[0;36m1\u001b[0m\u001b[0;34m:\u001b[0m\u001b[0;34m]\u001b[0m\u001b[0;34m+\u001b[0m\u001b[0mnext_letter\u001b[0m\u001b[0;34m\u001b[0m\u001b[0m\n\u001b[1;32m     13\u001b[0m         \u001b[0mconstructed_sentence\u001b[0m \u001b[0;34m=\u001b[0m \u001b[0mconstructed_sentence\u001b[0m \u001b[0;34m+\u001b[0m \u001b[0mnext_letter\u001b[0m\u001b[0;34m\u001b[0m\u001b[0m\n",
      "\u001b[0;32m<ipython-input-13-dc08d5b5db45>\u001b[0m in \u001b[0;36mget_nexts_keras\u001b[0;34m(inp)\u001b[0m\n\u001b[1;32m      3\u001b[0m     \u001b[0marr\u001b[0m \u001b[0;34m=\u001b[0m \u001b[0mnp\u001b[0m\u001b[0;34m.\u001b[0m\u001b[0marray\u001b[0m\u001b[0;34m(\u001b[0m\u001b[0midxs\u001b[0m\u001b[0;34m)\u001b[0m\u001b[0;34m[\u001b[0m\u001b[0mnp\u001b[0m\u001b[0;34m.\u001b[0m\u001b[0mnewaxis\u001b[0m\u001b[0;34m,\u001b[0m\u001b[0;34m:\u001b[0m\u001b[0;34m]\u001b[0m\u001b[0;34m\u001b[0m\u001b[0m\n\u001b[1;32m      4\u001b[0m     \u001b[0mp\u001b[0m \u001b[0;34m=\u001b[0m \u001b[0mmodel\u001b[0m\u001b[0;34m.\u001b[0m\u001b[0mpredict\u001b[0m\u001b[0;34m(\u001b[0m\u001b[0marr\u001b[0m\u001b[0;34m)\u001b[0m\u001b[0;34m[\u001b[0m\u001b[0;36m0\u001b[0m\u001b[0;34m]\u001b[0m\u001b[0;34m\u001b[0m\u001b[0m\n\u001b[0;32m----> 5\u001b[0;31m     \u001b[0;32mreturn\u001b[0m \u001b[0mindices_char\u001b[0m\u001b[0;34m[\u001b[0m\u001b[0mnp\u001b[0m\u001b[0;34m.\u001b[0m\u001b[0margmax\u001b[0m\u001b[0;34m(\u001b[0m\u001b[0mp\u001b[0m\u001b[0;34m)\u001b[0m\u001b[0;34m]\u001b[0m\u001b[0;34m\u001b[0m\u001b[0m\n\u001b[0m\u001b[1;32m      6\u001b[0m \u001b[0;31m#     print(p)b\u001b[0m\u001b[0;34m\u001b[0m\u001b[0;34m\u001b[0m\u001b[0m\n\u001b[1;32m      7\u001b[0m \u001b[0;31m#     return [chars[np.argmax(o)] for o in p]\u001b[0m\u001b[0;34m\u001b[0m\u001b[0;34m\u001b[0m\u001b[0m\n",
      "\u001b[0;31mKeyError\u001b[0m: 730"
     ]
    }
   ],
   "source": [
    "import random\n",
    "i_space = [i for i, x in enumerate(text) if x == \" \"] \n",
    "for i in range(3):\n",
    "    len_test = 40\n",
    "    start_index = random.randint(0, len(i_space))\n",
    "    sentence = text[i_space[start_index]:i_space[start_index]+len_test]\n",
    "    constructed_sentence = sentence[0:character_set]\n",
    "    next_seed = constructed_sentence\n",
    "    print(\"seed: %s, original: %s\" % (constructed_sentence, sentence))\n",
    "    for i in range(len_test-character_set):\n",
    "        next_letter = get_nexts_keras(next_seed)\n",
    "        next_seed = next_seed[1:]+next_letter\n",
    "        constructed_sentence = constructed_sentence + next_letter\n",
    "    print(\"constructed: %s\" % constructed_sentence)\n",
    "    \n",
    "\n"
   ]
  },
  {
   "cell_type": "markdown",
   "metadata": {},
   "source": [
    "### Sequential model"
   ]
  },
  {
   "cell_type": "code",
   "execution_count": 8,
   "metadata": {},
   "outputs": [
    {
     "name": "stdout",
     "output_type": "stream",
     "text": [
      "____________________________________________________________________________________________________\n",
      "Layer (type)                     Output Shape          Param #     Connected to                     \n",
      "====================================================================================================\n",
      "embedding_1 (Embedding)          (None, 25, 42)        4830        embedding_input_1[0][0]          \n",
      "____________________________________________________________________________________________________\n",
      "simplernn_1 (SimpleRNN)          (None, 25, 256)       76544       embedding_1[0][0]                \n",
      "____________________________________________________________________________________________________\n",
      "timedistributed_1 (TimeDistribut (None, 25, 115)       29555       simplernn_1[0][0]                \n",
      "====================================================================================================\n",
      "Total params: 110,929\n",
      "Trainable params: 110,929\n",
      "Non-trainable params: 0\n",
      "____________________________________________________________________________________________________\n"
     ]
    }
   ],
   "source": [
    "embedding_size = 42\n",
    "hidden_layers = 256\n",
    "character_set = 25\n",
    "vocab_size = len(chars)+1\n",
    "\n",
    "model=Sequential([\n",
    "        Embedding(vocab_size, embedding_size, input_length=character_set),\n",
    "        SimpleRNN(hidden_layers, return_sequences=True, activation='relu', inner_init='identity'),\n",
    "        TimeDistributed(Dense(vocab_size, activation='softmax'))\n",
    "    ])\n",
    "model.compile(loss='sparse_categorical_crossentropy', optimizer=Adam())\n",
    "model.summary()\n"
   ]
  },
  {
   "cell_type": "code",
   "execution_count": 9,
   "metadata": {},
   "outputs": [
    {
     "name": "stdout",
     "output_type": "stream",
     "text": [
      "nb sequences: 43500\n",
      "[[73, 73, 69, 2, 73, 64, 2, 43, 73, 78, 76, 63, 13, 33, 59, 71, 63, 2, 62, 63, 2, 45, 59, 76, 67], [77, 12, 2, 60, 83, 2, 51, 67, 61, 78, 73, 76, 2, 37, 79, 65, 73, 1, 0, 1, 0, 49, 66, 67, 77]]\n",
      "[[73, 69, 2, 73, 64, 2, 43, 73, 78, 76, 63, 13, 33, 59, 71, 63, 2, 62, 63, 2, 45, 59, 76, 67, 77], [12, 2, 60, 83, 2, 51, 67, 61, 78, 73, 76, 2, 37, 79, 65, 73, 1, 0, 1, 0, 49, 66, 67, 77, 2]]\n",
      "(43500, 25, 1)\n"
     ]
    }
   ],
   "source": [
    "#  from https://github.com/fchollet/keras/blob/master/examples/lstm_text_generation.py\n",
    "char_in = []\n",
    "char_out = []\n",
    "for i in range(0, len(text) - 1 - character_set, character_set):\n",
    "    char_in.append([char_indices[c] for c in text[i: i + character_set]])\n",
    "    char_out.append([char_indices[c] for c in text[i+1: i + 1 + character_set]])\n",
    "\n",
    "print('nb sequences:', len(char_in))\n",
    "print(char_in[1:3])\n",
    "print(char_out[1:3])\n",
    "char_out_3d = np.asarray(np.stack([char_out],axis=2))\n",
    "print(char_out_3d.shape)\n",
    "\n",
    "\n",
    "\n"
   ]
  },
  {
   "cell_type": "code",
   "execution_count": 16,
   "metadata": {},
   "outputs": [
    {
     "name": "stdout",
     "output_type": "stream",
     "text": [
      "Epoch 1/3\n",
      "43500/43500 [==============================] - 28s - loss: 1.4546    \n",
      "Epoch 2/3\n",
      "43500/43500 [==============================] - 28s - loss: 1.4500    \n",
      "Epoch 3/3\n",
      "43500/43500 [==============================] - 28s - loss: 1.4456    \n"
     ]
    },
    {
     "data": {
      "text/plain": [
       "<keras.callbacks.History at 0x11a683d10>"
      ]
     },
     "execution_count": 16,
     "metadata": {},
     "output_type": "execute_result"
    }
   ],
   "source": []
  },
  {
   "cell_type": "code",
   "execution_count": 24,
   "metadata": {
    "collapsed": true
   },
   "outputs": [],
   "source": [
    "def get_nexts_keras(inp):\n",
    "    idxs = [char_indices[c] for c in inp]\n",
    "    arr = np.array(idxs)[np.newaxis,:]\n",
    "    p = model.predict(arr)[0]\n",
    "\n",
    "    return indices_char[np.argmax(p[7])]"
   ]
  },
  {
   "cell_type": "code",
   "execution_count": null,
   "metadata": {
    "collapsed": true
   },
   "outputs": [],
   "source": [
    "# Selectiveness from https://github.com/fchollet/keras/blob/master/examples/lstm_text_generation.py\n",
    "def sample(preds, temperature=1.0):\n",
    "    # helper function to sample an index from a probability array\n",
    "    preds = np.asarray(preds).astype('float64')\n",
    "    preds = np.log(preds) / temperature\n",
    "    exp_preds = np.exp(preds)\n",
    "    preds = exp_preds / np.sum(exp_preds)    \n",
    "    probas = np.random.multinomial(1, preds, 1)\n",
    "#     print(\"max prob %d vs max preds %d\" % (np.argmax(probas),np.argmax(preds)))\n",
    "    return np.argmax(probas)"
   ]
  },
  {
   "cell_type": "code",
   "execution_count": 28,
   "metadata": {
    "code_folding": [],
    "collapsed": true
   },
   "outputs": [],
   "source": [
    "def gen_sentence(num_sent):\n",
    "    import random\n",
    "    i_space = [i for i, x in enumerate(text) if x == \" \"] \n",
    "    for i in range(num_sent):\n",
    "        len_test = 40\n",
    "        seed_length = 8\n",
    "        start_index = random.randint(0, len(i_space))\n",
    "        sentence = text[i_space[start_index]:i_space[start_index]+len_test]\n",
    "        print(\"----> seed: %s, original: %s\" % (sentence[0:character_set], sentence))\n",
    "\n",
    "        for temp in [-1, 0.2, 0.5, 1, 1.2]:\n",
    "            constructed_sentence = sentence[0:character_set]\n",
    "            next_seed = constructed_sentence\n",
    "            print(\" __ temp %0.1f\" % temp)\n",
    "            for i in range(len_test-character_set):\n",
    "                next_letter = get_nexts_keras(next_seed, temp)\n",
    "                next_seed = next_seed[1:]+next_letter\n",
    "                constructed_sentence = constructed_sentence + next_letter\n",
    "            print(\"constructed: %s\" % constructed_sentence)"
   ]
  },
  {
   "cell_type": "code",
   "execution_count": null,
   "metadata": {
    "collapsed": true
   },
   "outputs": [],
   "source": [
    "model.lr=0.0001\n",
    "model.fit(char_in, char_out_3d, batch_size=64, nb_epoch=3)\n",
    "\n",
    "gen_sentence(3)"
   ]
  },
  {
   "cell_type": "markdown",
   "metadata": {},
   "source": [
    "# Stateful RNN"
   ]
  },
  {
   "cell_type": "code",
   "execution_count": 41,
   "metadata": {},
   "outputs": [
    {
     "name": "stdout",
     "output_type": "stream",
     "text": [
      "____________________________________________________________________________________________________\n",
      "Layer (type)                     Output Shape          Param #     Connected to                     \n",
      "====================================================================================================\n",
      "embedding_3 (Embedding)          (64, 25, 42)          4830        embedding_input_2[0][0]          \n",
      "____________________________________________________________________________________________________\n",
      "batchnormalization_3 (BatchNorma (64, 25, 42)          168         embedding_3[0][0]                \n",
      "____________________________________________________________________________________________________\n",
      "dropout_2 (Dropout)              (64, 25, 42)          0           batchnormalization_3[0][0]       \n",
      "____________________________________________________________________________________________________\n",
      "lstm_2 (LSTM)                    (64, 25, 256)         306176      dropout_2[0][0]                  \n",
      "____________________________________________________________________________________________________\n",
      "timedistributed_2 (TimeDistribut (64, 25, 115)         29555       lstm_2[0][0]                     \n",
      "====================================================================================================\n",
      "Total params: 340,729\n",
      "Trainable params: 340,645\n",
      "Non-trainable params: 84\n",
      "____________________________________________________________________________________________________\n"
     ]
    }
   ],
   "source": [
    "embedding_size = 42\n",
    "hidden_layers = 256\n",
    "character_set = 25\n",
    "vocab_size = len(chars)+1\n",
    "batch_size = 64\n",
    "dropout = 0.2\n",
    "crop_size = 8\n",
    "model=Sequential([\n",
    "        Embedding(vocab_size, embedding_size, W_regularizer=l2(1e-6), input_length=character_set, batch_input_shape=(batch_size,character_set)),\n",
    "        BatchNormalization(),\n",
    "        Dropout(dropout),\n",
    "        LSTM(hidden_layers, return_sequences=True, stateful=True),\n",
    "        TimeDistributed(Dense(vocab_size, activation='softmax'))\n",
    "    ])\n",
    "\n",
    "model.compile(loss='sparse_categorical_crossentropy', optimizer=Adam())\n",
    "model.summary()\n"
   ]
  },
  {
   "cell_type": "code",
   "execution_count": 42,
   "metadata": {
    "code_folding": []
   },
   "outputs": [
    {
     "name": "stdout",
     "output_type": "stream",
     "text": [
      "nb sequences: 43500\n",
      "43456\n",
      "43456\n",
      "[[73, 73, 69, 2, 73, 64, 2, 43, 73, 78, 76, 63, 13, 33, 59, 71, 63, 2, 62, 63, 2, 45, 59, 76, 67], [77, 12, 2, 60, 83, 2, 51, 67, 61, 78, 73, 76, 2, 37, 79, 65, 73, 1, 0, 1, 0, 49, 66, 67, 77]]\n",
      "[[73, 69, 2, 73, 64, 2, 43, 73, 78, 76, 63, 13, 33, 59, 71, 63, 2, 62, 63, 2, 45, 59, 76, 67, 77], [12, 2, 60, 83, 2, 51, 67, 61, 78, 73, 76, 2, 37, 79, 65, 73, 1, 0, 1, 0, 49, 66, 67, 77, 2]]\n",
      "(43456, 25, 1)\n"
     ]
    }
   ],
   "source": [
    "#  from https://github.com/fchollet/keras/blob/master/examples/lstm_text_generation.py\n",
    "char_in = []\n",
    "char_out = []\n",
    "for i in range(0, len(text) - 1 - character_set, character_set):\n",
    "    char_in.append([char_indices[c] for c in text[i: i + character_set]])\n",
    "    char_out.append([char_indices[c] for c in text[i+1: i + 1 + character_set]])\n",
    "\n",
    "print('nb sequences:', len(char_in))\n",
    "## truncate to multiple batch size\n",
    "mult_bs = (len(char_in)//batch_size)*batch_size\n",
    "print(mult_bs)\n",
    "print(len(char_in[:mult_bs]))\n",
    "print(char_in[1:3])\n",
    "print(char_out[1:3])\n",
    "char_out_3d = np.asarray(np.stack([char_out[:mult_bs]],axis=2))\n",
    "char_in = char_in[:mult_bs]\n",
    "print(char_out_3d.shape)\n",
    "\n"
   ]
  },
  {
   "cell_type": "code",
   "execution_count": 43,
   "metadata": {
    "code_folding": [],
    "collapsed": true
   },
   "outputs": [],
   "source": [
    "def gen_sentence(num_sent):\n",
    "    import random\n",
    "    i_space = [i for i, x in enumerate(text) if x == \" \"] \n",
    "    for i in range(num_sent):\n",
    "        len_test = 40\n",
    "        seed_length = 8\n",
    "        start_index = random.randint(0, len(i_space))\n",
    "        sentence = text[i_space[start_index]:i_space[start_index]+len_test]\n",
    "        print(\"----> seed: %s, original: %s\" % (sentence[0:character_set], sentence))\n",
    "\n",
    "        for temp in [-1, 0.2, 0.5, 1, 1.2]:\n",
    "            constructed_sentence = sentence[0:character_set]\n",
    "            next_seed = constructed_sentence\n",
    "            print(\" __ temp %0.1f\" % temp)\n",
    "            for i in range(len_test-character_set):\n",
    "                next_letter = get_nexts_keras(next_seed, temp)\n",
    "                next_seed = next_seed[1:]+next_letter\n",
    "                constructed_sentence = constructed_sentence + next_letter\n",
    "            print(\"constructed: %s\" % constructed_sentence)"
   ]
  },
  {
   "cell_type": "code",
   "execution_count": 44,
   "metadata": {
    "code_folding": [],
    "collapsed": true
   },
   "outputs": [],
   "source": [
    "# Selectiveness from https://github.com/fchollet/keras/blob/master/examples/lstm_text_generation.py\n",
    "def sample(preds, temperature=1.0):\n",
    "    # helper function to sample an index from a probability array\n",
    "    preds = np.asarray(preds).astype('float64')\n",
    "    preds = np.log(preds) / temperature\n",
    "    exp_preds = np.exp(preds)\n",
    "    preds = exp_preds / np.sum(exp_preds)    \n",
    "    probas = np.random.multinomial(1, preds, 1)\n",
    "#     print(\"max prob %d vs max preds %d\" % (np.argmax(probas),np.argmax(preds)))\n",
    "    return np.argmax(probas)\n",
    " "
   ]
  },
  {
   "cell_type": "code",
   "execution_count": 45,
   "metadata": {
    "code_folding": []
   },
   "outputs": [],
   "source": [
    "def get_nexts_keras(inp, indice = 8, temperature= -1 ):\n",
    "    idxs = [char_indices[c] for c in inp]\n",
    "    arr = np.array(idxs)[np.newaxis,:]\n",
    "    arr_b = np.repeat(arr, batch_size, axis=0)\n",
    "    p = model.predict(arr_b, batch_size=batch_size)[0]\n",
    "    if temperature < 0:\n",
    "        return indices_char[np.argmax(p[indice])]\n",
    "    else:\n",
    "        return indices_char[sample(p[indice],temperature)]"
   ]
  },
  {
   "cell_type": "code",
   "execution_count": 57,
   "metadata": {
    "collapsed": true
   },
   "outputs": [],
   "source": [
    "def get_outputs(inp, temperature= -1):\n",
    "    idxs = [char_indices[c] for c in inp]\n",
    "    arr = np.array(idxs)[np.newaxis,:]\n",
    "    arr_b = np.repeat(arr, batch_size, axis=0)\n",
    "    p = model.predict(arr_b, batch_size=batch_size)[0]\n",
    "    constructed=\"\"\n",
    "    for indice in range(len(p)):\n",
    "        if temperature < 0:\n",
    "            constructed+=indices_char[np.argmax(p[indice])] \n",
    "        else:\n",
    "            constructed+=indices_char[sample(p[indice],temperature)]\n",
    "            \n",
    "    print(constructed)"
   ]
  },
  {
   "cell_type": "code",
   "execution_count": 62,
   "metadata": {},
   "outputs": [
    {
     "name": "stdout",
     "output_type": "stream",
     "text": [
      "esté    Ieést lor le pêbl\n"
     ]
    }
   ],
   "source": [
    "get_outputs(\"mystere. C'est sur la tab\", 0.2)"
   ]
  },
  {
   "cell_type": "code",
   "execution_count": 46,
   "metadata": {},
   "outputs": [
    {
     "name": "stdout",
     "output_type": "stream",
     "text": [
      "=== iteration 0 ===\n",
      "Epoch 1/5\n",
      "43456/43456 [==============================] - 108s - loss: 2.2441   \n",
      "Epoch 2/5\n",
      "43456/43456 [==============================] - 105s - loss: 1.9393   \n",
      "Epoch 3/5\n",
      "43456/43456 [==============================] - 105s - loss: 1.8477   \n",
      "Epoch 4/5\n",
      "43456/43456 [==============================] - 109s - loss: 1.7934   \n",
      "Epoch 5/5\n",
      "43456/43456 [==============================] - 112s - loss: 1.7521   \n",
      "----> seed:  plus du prêtre seulement, original:  plus du prêtre seulement, mais du savan\n",
      " __ temp -1.0\n",
      "constructed:  plus du prêtre seulementdaatsde daet en\n",
      " __ temp 0.2\n",
      "constructed:  plus du prêtre seulementdaatsde daet en\n",
      " __ temp 0.5\n",
      "constructed:  plus du prêtre seulementfoer de saatoeu\n",
      " __ temp 1.0\n",
      "constructed:  plus du prêtre seulementlrea,eirpeet en\n",
      " __ temp 1.2\n",
      "constructed:  plus du prêtre seulementdént éeiqlatees\n",
      "=== iteration 1 ===\n",
      "Epoch 1/5\n",
      "43456/43456 [==============================] - 110s - loss: 1.7243   \n",
      "Epoch 2/5\n",
      "43456/43456 [==============================] - 105s - loss: 1.7008   \n",
      "Epoch 3/5\n",
      "43456/43456 [==============================] - 104s - loss: 1.6819   \n",
      "Epoch 4/5\n",
      "43456/43456 [==============================] - 102s - loss: 1.6676   \n",
      "Epoch 5/5\n",
      "43456/43456 [==============================] - 105s - loss: 1.6540   \n",
      "----> seed:  étranges, y brillaient ç, original:  étranges, y brillaient çà et là. Tout c\n",
      " __ temp -1.0\n",
      "constructed:  étranges, y brillaient çdt eu un  c deo\n",
      " __ temp 0.2\n",
      "constructed:  étranges, y brillaient çlt eu un  a poi\n",
      " __ temp 0.5\n",
      "constructed:  étranges, y brillaient çft ev ln  s ert\n",
      " __ temp 1.0\n",
      "constructed:  étranges, y brillaient çstueitiss qsmoo\n",
      " __ temp 1.2\n",
      "constructed:  étranges, y brillaient çdgsagcs é e doô\n",
      "=== iteration 2 ===\n",
      "Epoch 1/5\n",
      "43456/43456 [==============================] - 101s - loss: 1.6431   \n",
      "Epoch 2/5\n",
      "43456/43456 [==============================] - 99s - loss: 1.6334    \n",
      "Epoch 3/5\n",
      "43456/43456 [==============================] - 100s - loss: 1.6247   \n",
      "Epoch 4/5\n",
      "43456/43456 [==============================] - 102s - loss: 1.6170   \n",
      "Epoch 5/5\n",
      "43456/43456 [==============================] - 102s - loss: 1.6100   \n",
      "----> seed:  donna passage à deux\n",
      "pe, original:  donna passage à deux\n",
      "personnes derrièr\n",
      " __ temp -1.0\n",
      "constructed:  donna passage à deux\n",
      "pediuteidsna irnd\n",
      " __ temp 0.2\n",
      "constructed:  donna passage à deux\n",
      "pediuteidln  ur p\n",
      " __ temp 0.5\n",
      "constructed:  donna passage à deux\n",
      "pediuaeudsne ur c\n",
      " __ temp 1.0\n",
      "constructed:  donna passage à deux\n",
      "pedictipues irnsa\n",
      " __ temp 1.2\n",
      "constructed:  donna passage à deux\n",
      "periue is vo srcd\n",
      "=== iteration 3 ===\n",
      "Epoch 1/5\n",
      "43456/43456 [==============================] - 100s - loss: 1.6034   \n",
      "Epoch 2/5\n",
      "43456/43456 [==============================] - 102s - loss: 1.5978   \n",
      "Epoch 3/5\n",
      "43456/43456 [==============================] - 98s - loss: 1.5930    \n",
      "Epoch 4/5\n",
      "43456/43456 [==============================] - 98s - loss: 1.5882    \n",
      "Epoch 5/5\n",
      "43456/43456 [==============================] - 100s - loss: 1.5830   \n",
      "----> seed:  qui contenait ces\n",
      "trois, original:  qui contenait ces\n",
      "trois chapitres s'ég\n",
      " __ temp -1.0\n",
      "constructed:  qui contenait ces\n",
      "troisduetdent  ous l\n",
      " __ temp 0.2\n",
      "constructed:  qui contenait ces\n",
      "troisduetdent  ous l\n",
      " __ temp 0.5\n",
      "constructed:  qui contenait ces\n",
      "troisductdomnestvn l\n",
      " __ temp 1.0\n",
      "constructed:  qui contenait ces\n",
      "troisu elpousantmf s\n",
      " __ temp 1.2\n",
      "constructed:  qui contenait ces\n",
      "troisàuqèuodsi éleeL\n",
      "=== iteration 4 ===\n",
      "Epoch 1/5\n",
      "43456/43456 [==============================] - 100s - loss: 1.5788   \n",
      "Epoch 2/5\n",
      "43456/43456 [==============================] - 99s - loss: 1.5753    \n",
      "Epoch 3/5\n",
      "43456/43456 [==============================] - 99s - loss: 1.5718    \n",
      "Epoch 4/5\n",
      "43456/43456 [==============================] - 99s - loss: 1.5678    \n",
      "Epoch 5/5\n",
      "43456/43456 [==============================] - 99s - loss: 1.5645    \n",
      "----> seed:  y avons introduit le lec, original:  y avons introduit le lecteur, ce retrai\n",
      " __ temp -1.0\n",
      "constructed:  y avons introduit le lecl dvaut dlteeu \n",
      " __ temp 0.2\n",
      "constructed:  y avons introduit le lecd dvaut dlt eui\n",
      " __ temp 0.5\n",
      "constructed:  y avons introduit le lecl évêueedne. ne\n",
      " __ temp 1.0\n",
      "constructed:  y avons introduit le lecc,ltert dmn ifé\n",
      " __ temp 1.2\n",
      "constructed:  y avons introduit le lecdvjion,,pv  ele\n",
      "=== iteration 5 ===\n",
      "Epoch 1/5\n",
      "43456/43456 [==============================] - 98s - loss: 1.5612    \n",
      "Epoch 2/5\n",
      "43456/43456 [==============================] - 103s - loss: 1.5591   \n",
      "Epoch 3/5\n",
      "43456/43456 [==============================] - 103s - loss: 1.5564   \n",
      "Epoch 4/5\n",
      "43456/43456 [==============================] - 100s - loss: 1.5536   \n",
      "Epoch 5/5\n",
      "43456/43456 [==============================] - 100s - loss: 1.5517   \n",
      "----> seed:  The Project Gutenberg Li, original:  The Project Gutenberg Literary Archive \n",
      " __ temp -1.0\n",
      "constructed:  The Project Gutenberg Lidoeldhelet esus\n",
      " __ temp 0.2\n",
      "constructed:  The Project Gutenberg Liloe daeno hobos\n",
      " __ temp 0.5\n",
      "constructed:  The Project Gutenberg LidoelFooro-h-hei\n",
      " __ temp 1.0\n",
      "constructed:  The Project Gutenberg Liare.dloge,,odre\n",
      " __ temp 1.2\n",
      "constructed:  The Project Gutenberg Liaoorboehomeeprl\n",
      "=== iteration 6 ===\n",
      "Epoch 1/5\n",
      "43456/43456 [==============================] - 105s - loss: 1.5490   \n",
      "Epoch 2/5\n",
      "43456/43456 [==============================] - 106s - loss: 1.5462   \n",
      "Epoch 3/5\n",
      "43456/43456 [==============================] - 105s - loss: 1.5446   \n",
      "Epoch 4/5\n",
      "43456/43456 [==============================] - 105s - loss: 1.5428   \n",
      "Epoch 5/5\n",
      "43456/43456 [==============================] - 105s - loss: 1.5398   \n",
      "----> seed:  Louis XI, où en veux-tu , original:  Louis XI, où en veux-tu venir?\n",
      "\n",
      "--Il \n",
      " __ temp -1.0\n",
      "constructed:  Louis XI, où en veux-tu Ionrd dIs ln dn\n",
      " __ temp 0.2\n",
      "constructed:  Louis XI, où en veux-tu sonre dIs lr sn\n",
      " __ temp 0.5\n",
      "constructed:  Louis XI, où en veux-tu liirt qI   n in\n",
      " __ temp 1.0\n",
      "constructed:  Louis XI, où en veux-tu éollg dIl an an\n",
      " __ temp 1.2\n",
      "constructed:  Louis XI, où en veux-tu mambnorEV_tc in\n",
      "=== iteration 7 ===\n",
      "Epoch 1/5\n",
      "43456/43456 [==============================] - 103s - loss: 1.5385   \n",
      "Epoch 2/5\n",
      "43456/43456 [==============================] - 102s - loss: 1.5372   \n",
      "Epoch 3/5\n",
      "43456/43456 [==============================] - 101s - loss: 1.5358   \n",
      "Epoch 4/5\n",
      "43456/43456 [==============================] - 97s - loss: 1.5330    \n",
      "Epoch 5/5\n",
      "43456/43456 [==============================] - 97s - loss: 1.5327    \n",
      "----> seed:  et en psalmodiant vers l, original:  et en psalmodiant vers la condamnée, se\n",
      " __ temp -1.0\n",
      "constructed:  et en psalmodiant vers le tsmada teeusl\n",
      " __ temp 0.2\n",
      "constructed:  et en psalmodiant vers ld  sn lr naeu s\n",
      " __ temp 0.5\n",
      "constructed:  et en psalmodiant vers ls ec  da naeu l\n",
      " __ temp 1.0\n",
      "n do'ua ree:  et en psalmodiant vers lg  \n",
      " __ temp 1.2\n",
      "constructed:  et en psalmodiant vers ltueltspr saéucl\n",
      "=== iteration 8 ===\n",
      "Epoch 1/5\n",
      "43456/43456 [==============================] - 97s - loss: 1.5294    \n",
      "Epoch 2/5\n",
      "43456/43456 [==============================] - 101s - loss: 1.5283   \n",
      "Epoch 3/5\n",
      "43456/43456 [==============================] - 102s - loss: 1.5266   \n",
      "Epoch 4/5\n",
      "43456/43456 [==============================] - 109s - loss: 1.5263   \n",
      "Epoch 5/5\n",
      "43456/43456 [==============================] - 111s - loss: 1.5243   \n",
      "----> seed:  la maison de Nicolas\n",
      "Fl, original:  la maison de Nicolas\n",
      "Flamel, rue Mariv\n",
      " __ temp -1.0\n",
      "constructed:  la maison de Nicolas\n",
      "Flcardons nods po\n",
      " __ temp 0.2\n",
      "constructed:  la maison de Nicolas\n",
      "Fldonaenn mode do\n",
      " __ temp 0.5\n",
      "constructed:  la maison de Nicolas\n",
      "FlGartann i'ripeo\n",
      " __ temp 1.0\n",
      "constructed:  la maison de Nicolas\n",
      "Flqainagtis do Po\n",
      " __ temp 1.2\n",
      "constructed:  la maison de Nicolas\n",
      "FlGenbiulondaimqo\n",
      "=== iteration 9 ===\n",
      "Epoch 1/5\n",
      "43456/43456 [==============================] - 111s - loss: 1.5229   \n",
      "Epoch 2/5\n",
      "43456/43456 [==============================] - 112s - loss: 1.5220   \n",
      "Epoch 3/5\n",
      "43456/43456 [==============================] - 112s - loss: 1.5198   \n",
      "Epoch 4/5\n",
      "43456/43456 [==============================] - 112s - loss: 1.5200   \n",
      "Epoch 5/5\n",
      "43456/43456 [==============================] - 112s - loss: 1.5178   \n",
      "----> seed:  la pauvre malheureuse en, original:  la pauvre malheureuse enfant, et en mêm\n",
      " __ temp -1.0\n",
      "constructed:  la pauvre malheureuse enperdéitae danle\n",
      " __ temp 0.2\n",
      "constructed:  la pauvre malheureuse enleyltiree danle\n",
      " __ temp 0.5\n"
     ]
    },
    {
     "name": "stdout",
     "output_type": "stream",
     "text": [
      "constructed:  la pauvre malheureuse enleydtnrierdenle\n",
      " __ temp 1.0\n",
      "constructed:  la pauvre malheureuse endencél aermiieo\n",
      " __ temp 1.2\n",
      "constructed:  la pauvre malheureuse ensalfrnree eiplr\n",
      "=== iteration 10 ===\n",
      "Epoch 1/5\n",
      "43456/43456 [==============================] - 111s - loss: 1.5170   \n",
      "Epoch 2/5\n",
      "43456/43456 [==============================] - 111s - loss: 1.5155   \n",
      "Epoch 3/5\n",
      "43456/43456 [==============================] - 111s - loss: 1.5152   \n",
      "Epoch 4/5\n",
      "43456/43456 [==============================] - 111s - loss: 1.5142   \n",
      "Epoch 5/5\n",
      "43456/43456 [==============================] - 111s - loss: 1.5125   \n",
      "----> seed:  et boutiques fermées, ve, original:  et boutiques fermées, vers l'un des tro\n",
      " __ temp -1.0\n",
      "constructed:  et boutiques fermées, vees donc eu  e f\n",
      " __ temp 0.2\n",
      "constructed:  et boutiques fermées, vednecluseeussedf\n",
      " __ temp 0.5\n",
      "constructed:  et boutiques fermées, veateerne.surs la\n",
      " __ temp 1.0\n",
      "constructed:  et boutiques fermées, veàniclldenul, ii\n",
      " __ temp 1.2\n",
      "constructed:  et boutiques fermées, veae:veur lui  la\n",
      "=== iteration 11 ===\n",
      "Epoch 1/5\n",
      "43456/43456 [==============================] - 111s - loss: 1.5127   \n",
      "Epoch 2/5\n",
      "43456/43456 [==============================] - 111s - loss: 1.5108   \n",
      "Epoch 3/5\n",
      "43456/43456 [==============================] - 111s - loss: 1.5105   \n",
      "Epoch 4/5\n",
      "43456/43456 [==============================] - 112s - loss: 1.5087   \n",
      "Epoch 5/5\n",
      "43456/43456 [==============================] - 112s - loss: 1.5088   \n",
      "----> seed:  à _La Pomme d'Ève_. Et\n",
      ", original:  à _La Pomme d'Ève_. Et\n",
      "puis, à côté de\n",
      " __ temp -1.0\n",
      "constructed:  à _La Pomme d'Ève_. Et\n",
      "p lLe pauae deu\n",
      " __ temp 0.2\n",
      "constructed:  à _La Pomme d'Ève_. Et\n",
      "l dNytposmi lea\n",
      " __ temp 0.5\n",
      "constructed:  à _La Pomme d'Ève_. Et\n",
      "t sHersaneellei\n",
      " __ temp 1.0\n",
      "constructed:  à _La Pomme d'Ève_. Et\n",
      "c Eolufpliinaia\n",
      " __ temp 1.2\n",
      "constructed:  à _La Pomme d'Ève_. Et\n",
      "aeibohàouui\n",
      "=== iteration 12 ===\n",
      "Epoch 1/5\n",
      "43456/43456 [==============================] - 112s - loss: 1.5077   \n",
      "Epoch 2/5\n",
      "43456/43456 [==============================] - 110s - loss: 1.5071   \n",
      "Epoch 3/5\n",
      "43456/43456 [==============================] - 108s - loss: 1.5060   \n",
      "Epoch 4/5\n",
      "43456/43456 [==============================] - 110s - loss: 1.5048   \n",
      "Epoch 5/5\n",
      "43456/43456 [==============================] - 110s - loss: 1.5042   \n",
      "----> seed:  c'est-à-dire douze sols , original:  c'est-à-dire douze sols parisis;\n",
      "douze\n",
      " __ temp -1.0\n",
      "constructed:  c'est-à-dire douze sols seés i- Jesn de\n",
      " __ temp 0.2\n",
      "constructed:  c'est-à-dire douze sols deu  r- Jesn de\n",
      " __ temp 0.5\n",
      "constructed:  c'est-à-dire douze sols deu  r- Jetn se\n",
      " __ temp 1.0\n",
      "constructed:  c'est-à-dire douze sols eeé  ê- qélens\n",
      " __ temp 1.2\n",
      "constructed:  c'est-à-dire douze sols lha, éC -elt,se\n",
      "=== iteration 13 ===\n",
      "Epoch 1/5\n",
      "43456/43456 [==============================] - 109s - loss: 1.5036   \n",
      "Epoch 2/5\n",
      "43456/43456 [==============================] - 108s - loss: 1.5024   \n",
      "Epoch 3/5\n",
      "43456/43456 [==============================] - 109s - loss: 1.5020   \n",
      "Epoch 4/5\n",
      "43456/43456 [==============================] - 107s - loss: 1.5018   \n",
      "Epoch 5/5\n",
      "43456/43456 [==============================] - 108s - loss: 1.5002   \n",
      "----> seed:  Quasimodo étincela. C'ét, original:  Quasimodo étincela. C'était la bohémien\n",
      " __ temp -1.0\n",
      "constructed:  Quasimodo étincela. C'étculiiraneude no\n",
      " __ temp 0.2\n",
      "constructed:  Quasimodo étincela. C'étpuis nauuupeune\n",
      " __ temp 0.5\n",
      "constructed:  Quasimodo étincela. C'étdu ne euims  le\n",
      " __ temp 1.0\n",
      "constructed:  Quasimodo étincela. C'étvuli  êùiume ni\n",
      " __ temp 1.2\n",
      "constructed:  Quasimodo étincela. C'étlusfété,ilssue \n",
      "=== iteration 14 ===\n",
      "Epoch 1/5\n",
      "43456/43456 [==============================] - 107s - loss: 1.5001   \n",
      "Epoch 2/5\n",
      "43456/43456 [==============================] - 109s - loss: 1.4988   \n",
      "Epoch 3/5\n",
      "43456/43456 [==============================] - 111s - loss: 1.4983   \n",
      "Epoch 4/5\n",
      "43456/43456 [==============================] - 112s - loss: 1.4977   \n",
      "Epoch 5/5\n",
      "43456/43456 [==============================] - 110s - loss: 1.4977   \n",
      "----> seed:  jolie et maligne figure,, original:  jolie et maligne figure,\n",
      "accroché aux \n",
      " __ temp -1.0\n",
      "constructed:  jolie et maligne figure,lenlrsl  danlee\n",
      " __ temp 0.2\n",
      "constructed:  jolie et maligne figure,senlrsl  danlee\n",
      " __ temp 0.5\n",
      "constructed:  jolie et maligne figure,neullsp irpgula\n",
      " __ temp 1.0\n",
      "constructed:  jolie et maligne figure,coniqncmRlu ela\n",
      " __ temp 1.2\n",
      "constructed:  jolie et maligne figure,éaninreyoap enl\n",
      "=== iteration 15 ===\n",
      "Epoch 1/5\n",
      "43456/43456 [==============================] - 104s - loss: 1.4977   \n",
      "Epoch 2/5\n",
      "43456/43456 [==============================] - 100s - loss: 1.4955   \n",
      "Epoch 3/5\n",
      "43456/43456 [==============================] - 102s - loss: 1.4958   \n",
      "Epoch 4/5\n",
      "43456/43456 [==============================] - 104s - loss: 1.4952   \n",
      "Epoch 5/5\n",
      "43456/43456 [==============================] - 107s - loss: 1.4945   \n",
      "----> seed:  avoir attaché un si infe, original:  avoir attaché un si infernal frontispic\n",
      " __ temp -1.0\n",
      "constructed:  avoir attaché un si infedueil dv evoe d\n",
      " __ temp 0.2\n",
      "constructed:  avoir attaché un si infeduenletueeute d\n",
      " __ temp 0.5\n",
      "constructed:  avoir attaché un si infesueil dv evoa l\n",
      " __ temp 1.0\n",
      "constructed:  avoir attaché un si infeduelgedc rviéed\n",
      " __ temp 1.2\n",
      "constructed:  avoir attaché un si infetuitceà_a t'etV\n",
      "=== iteration 16 ===\n",
      "Epoch 1/5\n",
      "43456/43456 [==============================] - 113s - loss: 1.4940   \n",
      "Epoch 2/5\n",
      "43456/43456 [==============================] - 115s - loss: 1.4927   \n",
      "Epoch 3/5\n",
      "43456/43456 [==============================] - 112s - loss: 1.4934   \n",
      "Epoch 4/5\n",
      "43456/43456 [==============================] - 115s - loss: 1.4920   \n",
      "Epoch 5/5\n",
      "43456/43456 [==============================] - 109s - loss: 1.4911   \n",
      "----> seed:  le diable, ajoutait une , original:  le diable, ajoutait une troisième.\n",
      "\n",
      "-\n",
      " __ temp -1.0\n",
      "constructed:  le diable, ajoutait une ea desir    uei\n",
      " __ temp 0.2\n",
      "constructed:  le diable, ajoutait une da leeio    u'i\n",
      " __ temp 0.5\n",
      "constructed:  le diable, ajoutait une sacsenuee  suei\n",
      " __ temp 1.0\n",
      "constructed:  le diable, ajoutait une _'nviegle! Jrai\n",
      " __ temp 1.2\n",
      "Jnautructed:  le diable, ajoutait une dènl tvou \n",
      "=== iteration 17 ===\n",
      "Epoch 1/5\n",
      "43456/43456 [==============================] - 107s - loss: 1.4916   \n",
      "Epoch 2/5\n",
      "43456/43456 [==============================] - 111s - loss: 1.4913   \n",
      "Epoch 3/5\n",
      "43456/43456 [==============================] - 110s - loss: 1.4906   \n",
      "Epoch 4/5\n",
      "43456/43456 [==============================] - 109s - loss: 1.4897   \n",
      "Epoch 5/5\n",
      "43456/43456 [==============================] - 109s - loss: 1.4882   \n",
      "----> seed:  samedi. On ne douta plus, original:  samedi. On ne douta plus que les\n",
      "égypt\n",
      " __ temp -1.0\n",
      "constructed:  samedi. On ne douta plusd no il su de l\n",
      " __ temp 0.2\n",
      "eucde ccted:  samedi. On ne douta plusa ua en\n",
      " __ temp 0.5\n",
      "drdltslcted:  samedi. On ne douta plusp sa rn\n",
      " __ temp 1.0\n",
      "constructed:  samedi. On ne douta plust panes su Qeul\n",
      " __ temp 1.2\n",
      "qreetructed:  samedi. On ne douta plusp\n",
      "=== iteration 18 ===\n",
      "Epoch 1/5\n",
      "43456/43456 [==============================] - 110s - loss: 1.4889   \n",
      "Epoch 2/5\n",
      "43456/43456 [==============================] - 109s - loss: 1.4882   \n",
      "Epoch 3/5\n",
      "43456/43456 [==============================] - 111s - loss: 1.4883   \n",
      "Epoch 4/5\n",
      "43456/43456 [==============================] - 112s - loss: 1.4880   \n",
      "Epoch 5/5\n",
      "43456/43456 [==============================] - 112s - loss: 1.4865   \n",
      "----> seed:  âme charitable de bourge, original:  âme charitable de bourgeois ou\n",
      "de bour\n",
      " __ temp -1.0\n",
      "constructed:  âme charitable de bourgedte doaneèt oei\n",
      " __ temp 0.2\n",
      "constructed:  âme charitable de bourgeltesdeaidn ir  \n",
      " __ temp 0.5\n",
      "constructed:  âme charitable de bourgedcasdeei noïle \n",
      " __ temp 1.0\n",
      "constructed:  âme charitable de bourgeetezd,o antcéo.\n",
      " __ temp 1.2\n",
      "la structed:  âme charitable de bourgeptiscrut ne\n",
      "=== iteration 19 ===\n",
      "Epoch 1/5\n",
      "43456/43456 [==============================] - 110s - loss: 1.4865   \n",
      "Epoch 2/5\n",
      "43456/43456 [==============================] - 107s - loss: 1.4852   \n",
      "Epoch 3/5\n",
      "43456/43456 [==============================] - 110s - loss: 1.4855   \n",
      "Epoch 4/5\n",
      "43456/43456 [==============================] - 110s - loss: 1.4852   \n",
      "Epoch 5/5\n",
      "43456/43456 [==============================] - 111s - loss: 1.4848   \n",
      "----> seed:  mystère.\n",
      "\n",
      "C'est sur la, original:  mystère.\n",
      "\n",
      "C'est sur la table de marbr\n",
      " __ temp -1.0\n"
     ]
    },
    {
     "name": "stdout",
     "output_type": "stream",
     "text": [
      "constructed:  mystère.\n",
      "\n",
      "C'est sur lade  or i \n",
      "\n",
      "«'a\n",
      " __ temp 0.2\n",
      "constructed:  mystère.\n",
      "\n",
      "C'est sur lamee ira \n",
      "«\n",
      " 'a\n",
      " __ temp 0.5\n",
      "constructed:  mystère.\n",
      "\n",
      "C'est sur la peeire, \n",
      "l\n",
      "lo\n",
      " __ temp 1.0\n",
      "constructed:  mystère.\n",
      "\n",
      "C'est sur lapirses r\n",
      "h\n",
      "mli\n",
      " __ temp 1.2\n",
      "constructed:  mystère.\n",
      "\n",
      "C'est sur ladpe ,gor \n",
      "d\n",
      "vor\n"
     ]
    }
   ],
   "source": [
    "model.lr=0.001\n",
    "for i in range(20):\n",
    "    print (\"=== iteration %d ===\" % i)\n",
    "    model.fit(char_in, char_out_3d, batch_size=64, nb_epoch=5)\n",
    "    gen_sentence(1)"
   ]
  },
  {
   "cell_type": "code",
   "execution_count": null,
   "metadata": {
    "collapsed": true
   },
   "outputs": [],
   "source": [
    "model.save_weights('./results/lstm_statefull_victorhugo.h5')"
   ]
  }
 ],
 "metadata": {
  "kernelspec": {
   "display_name": "Python 2",
   "language": "python",
   "name": "python2"
  },
  "language_info": {
   "codemirror_mode": {
    "name": "ipython",
    "version": 2
   },
   "file_extension": ".py",
   "mimetype": "text/x-python",
   "name": "python",
   "nbconvert_exporter": "python",
   "pygments_lexer": "ipython2",
   "version": "2.7.14"
  }
 },
 "nbformat": 4,
 "nbformat_minor": 2
}
